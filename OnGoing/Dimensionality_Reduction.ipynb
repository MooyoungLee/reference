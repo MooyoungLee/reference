{
 "cells": [
  {
   "cell_type": "markdown",
   "metadata": {},
   "source": [
    "# Dimensionality Reduction\n",
    "\n",
    "### Objective:\n",
    "\n",
    "- Comparing PCA, LDA\n",
    "\n",
    "10/5/2018<br>\n",
    "Mooyoung Lee"
   ]
  },
  {
   "cell_type": "markdown",
   "metadata": {},
   "source": [
    "# Load data: Boston House Price"
   ]
  },
  {
   "cell_type": "code",
   "execution_count": 1,
   "metadata": {},
   "outputs": [
    {
     "data": {
      "text/html": [
       "<div>\n",
       "<style scoped>\n",
       "    .dataframe tbody tr th:only-of-type {\n",
       "        vertical-align: middle;\n",
       "    }\n",
       "\n",
       "    .dataframe tbody tr th {\n",
       "        vertical-align: top;\n",
       "    }\n",
       "\n",
       "    .dataframe thead th {\n",
       "        text-align: right;\n",
       "    }\n",
       "</style>\n",
       "<table border=\"1\" class=\"dataframe\">\n",
       "  <thead>\n",
       "    <tr style=\"text-align: right;\">\n",
       "      <th></th>\n",
       "      <th>0</th>\n",
       "      <th>1</th>\n",
       "      <th>2</th>\n",
       "      <th>3</th>\n",
       "      <th>4</th>\n",
       "      <th>5</th>\n",
       "      <th>6</th>\n",
       "      <th>7</th>\n",
       "      <th>8</th>\n",
       "      <th>9</th>\n",
       "      <th>...</th>\n",
       "      <th>55</th>\n",
       "      <th>56</th>\n",
       "      <th>57</th>\n",
       "      <th>58</th>\n",
       "      <th>59</th>\n",
       "      <th>60</th>\n",
       "      <th>61</th>\n",
       "      <th>62</th>\n",
       "      <th>63</th>\n",
       "      <th>target</th>\n",
       "    </tr>\n",
       "  </thead>\n",
       "  <tbody>\n",
       "    <tr>\n",
       "      <th>count</th>\n",
       "      <td>1797.0</td>\n",
       "      <td>1797.000000</td>\n",
       "      <td>1797.000000</td>\n",
       "      <td>1797.000000</td>\n",
       "      <td>1797.000000</td>\n",
       "      <td>1797.000000</td>\n",
       "      <td>1797.000000</td>\n",
       "      <td>1797.000000</td>\n",
       "      <td>1797.000000</td>\n",
       "      <td>1797.000000</td>\n",
       "      <td>...</td>\n",
       "      <td>1797.000000</td>\n",
       "      <td>1797.000000</td>\n",
       "      <td>1797.000000</td>\n",
       "      <td>1797.000000</td>\n",
       "      <td>1797.000000</td>\n",
       "      <td>1797.000000</td>\n",
       "      <td>1797.000000</td>\n",
       "      <td>1797.000000</td>\n",
       "      <td>1797.000000</td>\n",
       "      <td>1797.000000</td>\n",
       "    </tr>\n",
       "    <tr>\n",
       "      <th>mean</th>\n",
       "      <td>0.0</td>\n",
       "      <td>0.303840</td>\n",
       "      <td>5.204786</td>\n",
       "      <td>11.835838</td>\n",
       "      <td>11.848080</td>\n",
       "      <td>5.781859</td>\n",
       "      <td>1.362270</td>\n",
       "      <td>0.129661</td>\n",
       "      <td>0.005565</td>\n",
       "      <td>1.993879</td>\n",
       "      <td>...</td>\n",
       "      <td>0.206455</td>\n",
       "      <td>0.000556</td>\n",
       "      <td>0.279354</td>\n",
       "      <td>5.557596</td>\n",
       "      <td>12.089037</td>\n",
       "      <td>11.809126</td>\n",
       "      <td>6.764051</td>\n",
       "      <td>2.067891</td>\n",
       "      <td>0.364496</td>\n",
       "      <td>4.490818</td>\n",
       "    </tr>\n",
       "    <tr>\n",
       "      <th>std</th>\n",
       "      <td>0.0</td>\n",
       "      <td>0.907192</td>\n",
       "      <td>4.754826</td>\n",
       "      <td>4.248842</td>\n",
       "      <td>4.287388</td>\n",
       "      <td>5.666418</td>\n",
       "      <td>3.325775</td>\n",
       "      <td>1.037383</td>\n",
       "      <td>0.094222</td>\n",
       "      <td>3.196160</td>\n",
       "      <td>...</td>\n",
       "      <td>0.984401</td>\n",
       "      <td>0.023590</td>\n",
       "      <td>0.934302</td>\n",
       "      <td>5.103019</td>\n",
       "      <td>4.374694</td>\n",
       "      <td>4.933947</td>\n",
       "      <td>5.900623</td>\n",
       "      <td>4.090548</td>\n",
       "      <td>1.860122</td>\n",
       "      <td>2.865304</td>\n",
       "    </tr>\n",
       "    <tr>\n",
       "      <th>min</th>\n",
       "      <td>0.0</td>\n",
       "      <td>0.000000</td>\n",
       "      <td>0.000000</td>\n",
       "      <td>0.000000</td>\n",
       "      <td>0.000000</td>\n",
       "      <td>0.000000</td>\n",
       "      <td>0.000000</td>\n",
       "      <td>0.000000</td>\n",
       "      <td>0.000000</td>\n",
       "      <td>0.000000</td>\n",
       "      <td>...</td>\n",
       "      <td>0.000000</td>\n",
       "      <td>0.000000</td>\n",
       "      <td>0.000000</td>\n",
       "      <td>0.000000</td>\n",
       "      <td>0.000000</td>\n",
       "      <td>0.000000</td>\n",
       "      <td>0.000000</td>\n",
       "      <td>0.000000</td>\n",
       "      <td>0.000000</td>\n",
       "      <td>0.000000</td>\n",
       "    </tr>\n",
       "    <tr>\n",
       "      <th>25%</th>\n",
       "      <td>0.0</td>\n",
       "      <td>0.000000</td>\n",
       "      <td>1.000000</td>\n",
       "      <td>10.000000</td>\n",
       "      <td>10.000000</td>\n",
       "      <td>0.000000</td>\n",
       "      <td>0.000000</td>\n",
       "      <td>0.000000</td>\n",
       "      <td>0.000000</td>\n",
       "      <td>0.000000</td>\n",
       "      <td>...</td>\n",
       "      <td>0.000000</td>\n",
       "      <td>0.000000</td>\n",
       "      <td>0.000000</td>\n",
       "      <td>1.000000</td>\n",
       "      <td>11.000000</td>\n",
       "      <td>10.000000</td>\n",
       "      <td>0.000000</td>\n",
       "      <td>0.000000</td>\n",
       "      <td>0.000000</td>\n",
       "      <td>2.000000</td>\n",
       "    </tr>\n",
       "    <tr>\n",
       "      <th>50%</th>\n",
       "      <td>0.0</td>\n",
       "      <td>0.000000</td>\n",
       "      <td>4.000000</td>\n",
       "      <td>13.000000</td>\n",
       "      <td>13.000000</td>\n",
       "      <td>4.000000</td>\n",
       "      <td>0.000000</td>\n",
       "      <td>0.000000</td>\n",
       "      <td>0.000000</td>\n",
       "      <td>0.000000</td>\n",
       "      <td>...</td>\n",
       "      <td>0.000000</td>\n",
       "      <td>0.000000</td>\n",
       "      <td>0.000000</td>\n",
       "      <td>4.000000</td>\n",
       "      <td>13.000000</td>\n",
       "      <td>14.000000</td>\n",
       "      <td>6.000000</td>\n",
       "      <td>0.000000</td>\n",
       "      <td>0.000000</td>\n",
       "      <td>4.000000</td>\n",
       "    </tr>\n",
       "    <tr>\n",
       "      <th>75%</th>\n",
       "      <td>0.0</td>\n",
       "      <td>0.000000</td>\n",
       "      <td>9.000000</td>\n",
       "      <td>15.000000</td>\n",
       "      <td>15.000000</td>\n",
       "      <td>11.000000</td>\n",
       "      <td>0.000000</td>\n",
       "      <td>0.000000</td>\n",
       "      <td>0.000000</td>\n",
       "      <td>3.000000</td>\n",
       "      <td>...</td>\n",
       "      <td>0.000000</td>\n",
       "      <td>0.000000</td>\n",
       "      <td>0.000000</td>\n",
       "      <td>10.000000</td>\n",
       "      <td>16.000000</td>\n",
       "      <td>16.000000</td>\n",
       "      <td>12.000000</td>\n",
       "      <td>2.000000</td>\n",
       "      <td>0.000000</td>\n",
       "      <td>7.000000</td>\n",
       "    </tr>\n",
       "    <tr>\n",
       "      <th>max</th>\n",
       "      <td>0.0</td>\n",
       "      <td>8.000000</td>\n",
       "      <td>16.000000</td>\n",
       "      <td>16.000000</td>\n",
       "      <td>16.000000</td>\n",
       "      <td>16.000000</td>\n",
       "      <td>16.000000</td>\n",
       "      <td>15.000000</td>\n",
       "      <td>2.000000</td>\n",
       "      <td>16.000000</td>\n",
       "      <td>...</td>\n",
       "      <td>13.000000</td>\n",
       "      <td>1.000000</td>\n",
       "      <td>9.000000</td>\n",
       "      <td>16.000000</td>\n",
       "      <td>16.000000</td>\n",
       "      <td>16.000000</td>\n",
       "      <td>16.000000</td>\n",
       "      <td>16.000000</td>\n",
       "      <td>16.000000</td>\n",
       "      <td>9.000000</td>\n",
       "    </tr>\n",
       "  </tbody>\n",
       "</table>\n",
       "<p>8 rows × 65 columns</p>\n",
       "</div>"
      ],
      "text/plain": [
       "            0            1            2            3            4  \\\n",
       "count  1797.0  1797.000000  1797.000000  1797.000000  1797.000000   \n",
       "mean      0.0     0.303840     5.204786    11.835838    11.848080   \n",
       "std       0.0     0.907192     4.754826     4.248842     4.287388   \n",
       "min       0.0     0.000000     0.000000     0.000000     0.000000   \n",
       "25%       0.0     0.000000     1.000000    10.000000    10.000000   \n",
       "50%       0.0     0.000000     4.000000    13.000000    13.000000   \n",
       "75%       0.0     0.000000     9.000000    15.000000    15.000000   \n",
       "max       0.0     8.000000    16.000000    16.000000    16.000000   \n",
       "\n",
       "                 5            6            7            8            9  \\\n",
       "count  1797.000000  1797.000000  1797.000000  1797.000000  1797.000000   \n",
       "mean      5.781859     1.362270     0.129661     0.005565     1.993879   \n",
       "std       5.666418     3.325775     1.037383     0.094222     3.196160   \n",
       "min       0.000000     0.000000     0.000000     0.000000     0.000000   \n",
       "25%       0.000000     0.000000     0.000000     0.000000     0.000000   \n",
       "50%       4.000000     0.000000     0.000000     0.000000     0.000000   \n",
       "75%      11.000000     0.000000     0.000000     0.000000     3.000000   \n",
       "max      16.000000    16.000000    15.000000     2.000000    16.000000   \n",
       "\n",
       "          ...                55           56           57           58  \\\n",
       "count     ...       1797.000000  1797.000000  1797.000000  1797.000000   \n",
       "mean      ...          0.206455     0.000556     0.279354     5.557596   \n",
       "std       ...          0.984401     0.023590     0.934302     5.103019   \n",
       "min       ...          0.000000     0.000000     0.000000     0.000000   \n",
       "25%       ...          0.000000     0.000000     0.000000     1.000000   \n",
       "50%       ...          0.000000     0.000000     0.000000     4.000000   \n",
       "75%       ...          0.000000     0.000000     0.000000    10.000000   \n",
       "max       ...         13.000000     1.000000     9.000000    16.000000   \n",
       "\n",
       "                59           60           61           62           63  \\\n",
       "count  1797.000000  1797.000000  1797.000000  1797.000000  1797.000000   \n",
       "mean     12.089037    11.809126     6.764051     2.067891     0.364496   \n",
       "std       4.374694     4.933947     5.900623     4.090548     1.860122   \n",
       "min       0.000000     0.000000     0.000000     0.000000     0.000000   \n",
       "25%      11.000000    10.000000     0.000000     0.000000     0.000000   \n",
       "50%      13.000000    14.000000     6.000000     0.000000     0.000000   \n",
       "75%      16.000000    16.000000    12.000000     2.000000     0.000000   \n",
       "max      16.000000    16.000000    16.000000    16.000000    16.000000   \n",
       "\n",
       "            target  \n",
       "count  1797.000000  \n",
       "mean      4.490818  \n",
       "std       2.865304  \n",
       "min       0.000000  \n",
       "25%       2.000000  \n",
       "50%       4.000000  \n",
       "75%       7.000000  \n",
       "max       9.000000  \n",
       "\n",
       "[8 rows x 65 columns]"
      ]
     },
     "execution_count": 1,
     "metadata": {},
     "output_type": "execute_result"
    }
   ],
   "source": [
    "from matplotlib import pyplot as plt\n",
    "%matplotlib inline\n",
    "\n",
    "import pandas as pd\n",
    "import numpy as np\n",
    "from sklearn import datasets\n",
    "\n",
    "data = datasets.load_digits()\n",
    "df = pd.DataFrame(data.data)\n",
    "df['target'] = data.target\n",
    "df.describe()"
   ]
  },
  {
   "cell_type": "code",
   "execution_count": 2,
   "metadata": {},
   "outputs": [
    {
     "data": {
      "text/plain": [
       "0"
      ]
     },
     "execution_count": 2,
     "metadata": {},
     "output_type": "execute_result"
    }
   ],
   "source": [
    "df.isnull().sum().sum()"
   ]
  },
  {
   "cell_type": "code",
   "execution_count": 3,
   "metadata": {},
   "outputs": [
    {
     "data": {
      "text/plain": [
       "array([0, 1, 2, 3, 4, 5, 6, 7, 8, 9], dtype=int64)"
      ]
     },
     "execution_count": 3,
     "metadata": {},
     "output_type": "execute_result"
    }
   ],
   "source": [
    "df.target.unique()"
   ]
  },
  {
   "cell_type": "markdown",
   "metadata": {},
   "source": [
    "# Check distribution\n",
    "\n",
    "- data transformation step will be skipped for this study"
   ]
  },
  {
   "cell_type": "code",
   "execution_count": 4,
   "metadata": {
    "scrolled": true
   },
   "outputs": [],
   "source": [
    "# import seaborn as sns\n",
    "\n",
    "# for col in list(df):\n",
    "#     plt.figure()\n",
    "#     sns.distplot(df[col])"
   ]
  },
  {
   "cell_type": "markdown",
   "metadata": {},
   "source": [
    "# Base Model: Random Forest Classifier"
   ]
  },
  {
   "cell_type": "code",
   "execution_count": 5,
   "metadata": {},
   "outputs": [
    {
     "name": "stderr",
     "output_type": "stream",
     "text": [
      "C:\\Users\\ML\\Anaconda3\\envs\\kerasGPU\\lib\\site-packages\\sklearn\\ensemble\\weight_boosting.py:29: DeprecationWarning: numpy.core.umath_tests is an internal NumPy module and should not be imported. It will be removed in a future NumPy release.\n",
      "  from numpy.core.umath_tests import inner1d\n"
     ]
    },
    {
     "name": "stdout",
     "output_type": "stream",
     "text": [
      "\n",
      "CV result :\n",
      "    F1(Train)  F1(Test)\n",
      "0      0.999     0.956\n",
      "1      1.000     0.944\n",
      "2      0.999     0.944\n",
      "3      1.000     0.961\n",
      "4      1.000     0.961\n",
      "5      1.000     0.950\n",
      "6      0.999     0.967\n",
      "7      0.999     0.978\n",
      "8      0.999     0.938\n",
      "9      0.999     0.961\n",
      "\n",
      "CV average :\n",
      " F1(Train)    0.9994\n",
      "F1(Test)     0.9560\n",
      "dtype: float64\n"
     ]
    }
   ],
   "source": [
    "from sklearn.ensemble import RandomForestClassifier\n",
    "y = df['target'].values\n",
    "X = df.drop(['target'], axis = 1).values\n",
    "\n",
    "clf = RandomForestClassifier()\n",
    "\n",
    "from sklearn.metrics import f1_score\n",
    "from sklearn.model_selection import KFold\n",
    "cv_obj = KFold(n_splits = 10, shuffle = True)\n",
    "\n",
    "result = []\n",
    "for train_index, test_index in cv_obj.split(X, y):\n",
    "    X_train, X_test = X[train_index], X[test_index]\n",
    "    y_train, y_test = y[train_index], y[test_index]\n",
    "    \n",
    "    # train eval\n",
    "    clf.fit(X_train, y_train)\n",
    "    f1_train = f1_score(y_true = y_train, y_pred = clf.predict(X_train), average = 'weighted')\n",
    "    \n",
    "    # test eval\n",
    "    y_hat = clf.predict(X_test)\n",
    "    f1 = f1_score(y_true = y_test, y_pred = y_hat, average = 'weighted')\n",
    "    result.append([f1_train, f1])\n",
    "\n",
    "    \n",
    "# Result Summary\n",
    "result_fold = pd.DataFrame(np.round(result,3), columns = ['F1(Train)','F1(Test)'])\n",
    "print('\\nCV result :\\n', result_fold)\n",
    "print('\\nCV average :\\n', result_fold.mean())"
   ]
  },
  {
   "cell_type": "markdown",
   "metadata": {},
   "source": [
    "### Base model shows a very little overfitting. "
   ]
  },
  {
   "cell_type": "code",
   "execution_count": 6,
   "metadata": {},
   "outputs": [
    {
     "data": {
      "text/plain": [
       "Text(0.5,1,'KFold Evaluation')"
      ]
     },
     "execution_count": 6,
     "metadata": {},
     "output_type": "execute_result"
    },
    {
     "data": {
      "image/png": "[encoded data removed]",
      "text/plain": [
       "<Figure size 432x288 with 1 Axes>"
      ]
     },
     "metadata": {},
     "output_type": "display_data"
    }
   ],
   "source": [
    "result_fold.plot(kind='bar')\n",
    "plt.legend(['F1(Train)','F1(Test)'], bbox_to_anchor = (1.05,1))\n",
    "plt.xlabel('CV fold')\n",
    "plt.ylabel('F1-Score')\n",
    "plt.title('KFold Evaluation')"
   ]
  },
  {
   "cell_type": "markdown",
   "metadata": {},
   "source": [
    "# PCA & LDA"
   ]
  },
  {
   "cell_type": "code",
   "execution_count": 7,
   "metadata": {},
   "outputs": [
    {
     "name": "stdout",
     "output_type": "stream",
     "text": [
      "PCA feature shape : (1797, 10)\n",
      "LDA feature shape : (1797, 9)\n"
     ]
    },
    {
     "name": "stderr",
     "output_type": "stream",
     "text": [
      "C:\\Users\\ML\\Anaconda3\\envs\\kerasGPU\\lib\\site-packages\\sklearn\\discriminant_analysis.py:388: UserWarning: Variables are collinear.\n",
      "  warnings.warn(\"Variables are collinear.\")\n"
     ]
    }
   ],
   "source": [
    "from sklearn.decomposition import PCA\n",
    "from sklearn.discriminant_analysis import LinearDiscriminantAnalysis, QuadraticDiscriminantAnalysis\n",
    "# y = np.array(y, dtype = np.float64)\n",
    "\n",
    "pca = PCA(n_components = 10)\n",
    "X_pca = pca.fit_transform(X)\n",
    "print('PCA feature shape : {}'.format(X_pca.shape))\n",
    "\n",
    "lda = LinearDiscriminantAnalysis(n_components = 10)\n",
    "X_lda = lda.fit_transform(X,y)\n",
    "print('LDA feature shape : {}'.format(X_lda.shape))\n",
    "\n"
   ]
  },
  {
   "cell_type": "markdown",
   "metadata": {},
   "source": [
    "# Feature Importance"
   ]
  },
  {
   "cell_type": "code",
   "execution_count": 8,
   "metadata": {},
   "outputs": [
    {
     "data": {
      "text/plain": [
       "array([0.14890594, 0.13618771, 0.11794594, 0.08409979, 0.05782415,\n",
       "       0.04916909, 0.04315986, 0.03661372, 0.03353236, 0.03078779])"
      ]
     },
     "execution_count": 8,
     "metadata": {},
     "output_type": "execute_result"
    }
   ],
   "source": [
    "pca.explained_variance_ratio_"
   ]
  },
  {
   "cell_type": "code",
   "execution_count": 9,
   "metadata": {},
   "outputs": [
    {
     "data": {
      "text/plain": [
       "array([0.28912041, 0.18262788, 0.16962345, 0.1167055 , 0.08301253,\n",
       "       0.06565685, 0.04310127, 0.0293257 , 0.0208264 ])"
      ]
     },
     "execution_count": 9,
     "metadata": {},
     "output_type": "execute_result"
    }
   ],
   "source": [
    "lda.explained_variance_ratio_ "
   ]
  },
  {
   "cell_type": "markdown",
   "metadata": {},
   "source": [
    "# Classifier score w/ PCA 10 features"
   ]
  },
  {
   "cell_type": "code",
   "execution_count": 10,
   "metadata": {},
   "outputs": [
    {
     "name": "stdout",
     "output_type": "stream",
     "text": [
      "PCA feature shape : (1797, 10)\n",
      "\n",
      "CV result :\n",
      "    F1(Train)  F1(Test)\n",
      "0      0.999     0.938\n",
      "1      0.998     0.916\n",
      "2      0.998     0.966\n",
      "3      0.998     0.937\n",
      "4      0.998     0.944\n",
      "5      0.998     0.939\n",
      "6      0.998     0.938\n",
      "7      0.999     0.938\n",
      "8      0.999     0.950\n",
      "9      0.999     0.961\n",
      "\n",
      "CV average :\n",
      " F1(Train)    0.9984\n",
      "F1(Test)     0.9427\n",
      "dtype: float64\n"
     ]
    }
   ],
   "source": [
    "y = df['target'].values\n",
    "X = X_pca\n",
    "print('PCA feature shape : {}'.format(X.shape))\n",
    "\n",
    "clf = RandomForestClassifier()\n",
    "\n",
    "from sklearn.metrics import f1_score\n",
    "from sklearn.model_selection import KFold\n",
    "cv_obj = KFold(n_splits = 10, shuffle = True)\n",
    "\n",
    "result = []\n",
    "for train_index, test_index in cv_obj.split(X, y):\n",
    "    X_train, X_test = X[train_index], X[test_index]\n",
    "    y_train, y_test = y[train_index], y[test_index]\n",
    "    \n",
    "    # train eval\n",
    "    clf.fit(X_train, y_train)\n",
    "    f1_train = f1_score(y_true = y_train, y_pred = clf.predict(X_train), average = 'weighted')\n",
    "    \n",
    "    # test eval\n",
    "    y_hat = clf.predict(X_test)\n",
    "    f1 = f1_score(y_true = y_test, y_pred = y_hat, average = 'weighted')\n",
    "    result.append([f1_train, f1])\n",
    "\n",
    "    \n",
    "# Result Summary\n",
    "result_fold2 = pd.DataFrame(np.round(result,3), columns = ['F1(Train)','F1(Test)'])\n",
    "print('\\nCV result :\\n', result_fold2)\n",
    "print('\\nCV average :\\n', result_fold2.mean())"
   ]
  },
  {
   "cell_type": "markdown",
   "metadata": {},
   "source": [
    "# Classifier score w/ LDA features"
   ]
  },
  {
   "cell_type": "code",
   "execution_count": 11,
   "metadata": {},
   "outputs": [
    {
     "name": "stdout",
     "output_type": "stream",
     "text": [
      "PCA feature shape : (1797, 9)\n",
      "\n",
      "CV result :\n",
      "    F1(Train)  F1(Test)\n",
      "0      1.000     0.961\n",
      "1      0.998     0.928\n",
      "2      0.998     0.939\n",
      "3      0.997     0.967\n",
      "4      0.999     0.956\n",
      "5      0.999     0.939\n",
      "6      1.000     0.939\n",
      "7      0.999     0.927\n",
      "8      0.999     0.939\n",
      "9      0.998     0.994\n",
      "\n",
      "CV average :\n",
      " F1(Train)    0.9987\n",
      "F1(Test)     0.9489\n",
      "dtype: float64\n"
     ]
    }
   ],
   "source": [
    "y = df['target'].values\n",
    "X = X_lda\n",
    "print('PCA feature shape : {}'.format(X.shape))\n",
    "\n",
    "clf = RandomForestClassifier()\n",
    "\n",
    "from sklearn.metrics import f1_score\n",
    "from sklearn.model_selection import KFold\n",
    "cv_obj = KFold(n_splits = 10, shuffle = True)\n",
    "\n",
    "result = []\n",
    "for train_index, test_index in cv_obj.split(X, y):\n",
    "    X_train, X_test = X[train_index], X[test_index]\n",
    "    y_train, y_test = y[train_index], y[test_index]\n",
    "    \n",
    "    # train eval\n",
    "    clf.fit(X_train, y_train)\n",
    "    f1_train = f1_score(y_true = y_train, y_pred = clf.predict(X_train), average = 'weighted')\n",
    "    \n",
    "    # test eval\n",
    "    y_hat = clf.predict(X_test)\n",
    "    f1 = f1_score(y_true = y_test, y_pred = y_hat, average = 'weighted')\n",
    "    result.append([f1_train, f1])\n",
    "\n",
    "    \n",
    "# Result Summary\n",
    "result_fold3 = pd.DataFrame(np.round(result,3), columns = ['F1(Train)','F1(Test)'])\n",
    "print('\\nCV result :\\n', result_fold3)\n",
    "print('\\nCV average :\\n', result_fold3.mean())"
   ]
  },
  {
   "cell_type": "markdown",
   "metadata": {},
   "source": [
    "# Result comparison\n",
    "\n",
    "### The test scores are not reduced much with reduced features using PCA and LDA techniques."
   ]
  },
  {
   "cell_type": "code",
   "execution_count": 12,
   "metadata": {},
   "outputs": [
    {
     "name": "stdout",
     "output_type": "stream",
     "text": [
      "Average Test F1-Score:\n",
      " Original    0.956\n",
      "PCA         0.943\n",
      "LDA         0.949\n",
      "dtype: float64\n"
     ]
    },
    {
     "data": {
      "image/png": "[encoded data removed]",
      "text/plain": [
       "<Figure size 432x288 with 1 Axes>"
      ]
     },
     "metadata": {},
     "output_type": "display_data"
    }
   ],
   "source": [
    "result = pd.DataFrame({'Original' :result_fold['F1(Test)'].values,\n",
    "                       'PCA' : result_fold2['F1(Test)'].values, \n",
    "                       'LDA' : result_fold3['F1(Test)'].values})\n",
    "\n",
    "result.plot(kind='bar')\n",
    "plt.legend(['F1(Original)','F1(PCA)','F1(LDA)'], bbox_to_anchor = (1.05,1))\n",
    "plt.xlabel('CV fold')\n",
    "plt.ylabel('F1-Score')\n",
    "plt.title('KFold Evaluation(F1-score)')\n",
    "\n",
    "print('Average Test F1-Score:\\n',np.round(np.mean(result),3))"
   ]
  }
 ],
 "metadata": {
  "kernelspec": {
   "display_name": "Python 3",
   "language": "python",
   "name": "python3"
  },
  "language_info": {
   "codemirror_mode": {
    "name": "ipython",
    "version": 3
   },
   "file_extension": ".py",
   "mimetype": "text/x-python",
   "name": "python",
   "nbconvert_exporter": "python",
   "pygments_lexer": "ipython3",
   "version": "3.6.6"
  }
 },
 "nbformat": 4,
 "nbformat_minor": 2
}
