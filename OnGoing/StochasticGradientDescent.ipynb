{
 "cells": [
  {
   "cell_type": "markdown",
   "metadata": {},
   "source": [
    "# Stochastic Gradient Descent (SGD)\n",
    "\n",
    "### Objective: Setup SGD classifier \n",
    "\n",
    "10/4/2018<br>\n",
    "Mooyoung Lee"
   ]
  },
  {
   "cell_type": "markdown",
   "metadata": {},
   "source": [
    "# Iris dataset"
   ]
  },
  {
   "cell_type": "code",
   "execution_count": 1,
   "metadata": {},
   "outputs": [
    {
     "data": {
      "text/html": [
       "<div>\n",
       "<style scoped>\n",
       "    .dataframe tbody tr th:only-of-type {\n",
       "        vertical-align: middle;\n",
       "    }\n",
       "\n",
       "    .dataframe tbody tr th {\n",
       "        vertical-align: top;\n",
       "    }\n",
       "\n",
       "    .dataframe thead th {\n",
       "        text-align: right;\n",
       "    }\n",
       "</style>\n",
       "<table border=\"1\" class=\"dataframe\">\n",
       "  <thead>\n",
       "    <tr style=\"text-align: right;\">\n",
       "      <th></th>\n",
       "      <th>sepal length (cm)</th>\n",
       "      <th>sepal width (cm)</th>\n",
       "      <th>petal length (cm)</th>\n",
       "      <th>petal width (cm)</th>\n",
       "    </tr>\n",
       "  </thead>\n",
       "  <tbody>\n",
       "    <tr>\n",
       "      <th>0</th>\n",
       "      <td>5.1</td>\n",
       "      <td>3.5</td>\n",
       "      <td>1.4</td>\n",
       "      <td>0.2</td>\n",
       "    </tr>\n",
       "    <tr>\n",
       "      <th>1</th>\n",
       "      <td>4.9</td>\n",
       "      <td>3.0</td>\n",
       "      <td>1.4</td>\n",
       "      <td>0.2</td>\n",
       "    </tr>\n",
       "    <tr>\n",
       "      <th>2</th>\n",
       "      <td>4.7</td>\n",
       "      <td>3.2</td>\n",
       "      <td>1.3</td>\n",
       "      <td>0.2</td>\n",
       "    </tr>\n",
       "    <tr>\n",
       "      <th>3</th>\n",
       "      <td>4.6</td>\n",
       "      <td>3.1</td>\n",
       "      <td>1.5</td>\n",
       "      <td>0.2</td>\n",
       "    </tr>\n",
       "    <tr>\n",
       "      <th>4</th>\n",
       "      <td>5.0</td>\n",
       "      <td>3.6</td>\n",
       "      <td>1.4</td>\n",
       "      <td>0.2</td>\n",
       "    </tr>\n",
       "  </tbody>\n",
       "</table>\n",
       "</div>"
      ],
      "text/plain": [
       "   sepal length (cm)  sepal width (cm)  petal length (cm)  petal width (cm)\n",
       "0                5.1               3.5                1.4               0.2\n",
       "1                4.9               3.0                1.4               0.2\n",
       "2                4.7               3.2                1.3               0.2\n",
       "3                4.6               3.1                1.5               0.2\n",
       "4                5.0               3.6                1.4               0.2"
      ]
     },
     "execution_count": 1,
     "metadata": {},
     "output_type": "execute_result"
    }
   ],
   "source": [
    "import pandas as pd\n",
    "import numpy as np\n",
    "from sklearn import datasets\n",
    "iris = datasets.load_iris()\n",
    "X = pd.DataFrame(iris.data, columns = iris.feature_names)\n",
    "y = iris.target.astype(np.int)\n",
    "X.head()"
   ]
  },
  {
   "cell_type": "markdown",
   "metadata": {},
   "source": [
    "# Scale data"
   ]
  },
  {
   "cell_type": "code",
   "execution_count": 2,
   "metadata": {},
   "outputs": [],
   "source": [
    "from sklearn.preprocessing import MinMaxScaler\n",
    "scaler = MinMaxScaler(feature_range = (0,1))\n",
    "X = scaler.fit_transform(X)"
   ]
  },
  {
   "cell_type": "markdown",
   "metadata": {},
   "source": [
    "# SGD grid search\n",
    "\n",
    "hinge = SVM<br>\n",
    "log = logistic regression"
   ]
  },
  {
   "cell_type": "code",
   "execution_count": 3,
   "metadata": {},
   "outputs": [
    {
     "name": "stdout",
     "output_type": "stream",
     "text": [
      "Best parameters set found on development set:\n",
      "\n",
      "{'loss': 'hinge', 'alpha': 0.0001}\n",
      "Grid scores on development set:\n",
      "\n",
      "0.367 (+/-0.200) for {'loss': 'perceptron', 'alpha': 10}\n",
      "0.740 (+/-0.126) for {'loss': 'modified_huber', 'alpha': 1}\n",
      "0.847 (+/-0.189) for {'loss': 'hinge', 'alpha': 0.001}\n",
      "0.853 (+/-0.177) for {'loss': 'perceptron', 'alpha': 0.1}\n",
      "0.487 (+/-0.292) for {'loss': 'squared_hinge', 'alpha': 10}\n",
      "0.667 (+/-0.000) for {'loss': 'hinge', 'alpha': 0.1}\n",
      "0.827 (+/-0.107) for {'loss': 'log', 'alpha': 0.01}\n",
      "0.807 (+/-0.202) for {'loss': 'perceptron', 'alpha': 0.0001}\n",
      "0.680 (+/-0.303) for {'loss': 'squared_hinge', 'alpha': 0.1}\n",
      "0.720 (+/-0.331) for {'loss': 'modified_huber', 'alpha': 0.0001}\n",
      "0.787 (+/-0.131) for {'loss': 'squared_hinge', 'alpha': 1}\n",
      "0.653 (+/-0.053) for {'loss': 'hinge', 'alpha': 1}\n",
      "0.367 (+/-0.200) for {'loss': 'log', 'alpha': 10}\n",
      "0.833 (+/-0.225) for {'loss': 'hinge', 'alpha': 0.01}\n",
      "0.867 (+/-0.146) for {'loss': 'hinge', 'alpha': 0.0001}\n"
     ]
    }
   ],
   "source": [
    "from sklearn.linear_model import SGDClassifier\n",
    "from sklearn.model_selection import RandomizedSearchCV\n",
    "\n",
    "import warnings\n",
    "warnings.filterwarnings(\"ignore\")\n",
    "\n",
    "tuned_parameters = {'loss' : ['hinge','log','modified_huber','squared_hinge','perceptron'],\n",
    "                   'alpha' : [.0001, .001, .01, .1, 1, 10]}\n",
    "\n",
    "clf = RandomizedSearchCV(SGDClassifier(), tuned_parameters, cv=10, n_iter = 15, verbose = 0)\n",
    "clf.fit(X, y)\n",
    "\n",
    "## Print Results\n",
    "print(\"Best parameters set found on development set:\\n\")\n",
    "print(clf.best_params_)\n",
    "print(\"Grid scores on development set:\\n\")\n",
    "means = clf.cv_results_['mean_test_score']\n",
    "stds = clf.cv_results_['std_test_score']\n",
    "for mean, std, params in zip(means, stds, clf.cv_results_['params']):\n",
    "    print(\"%0.3f (+/-%0.03f) for %r\"\n",
    "          % (mean, std * 2, params))"
   ]
  },
  {
   "cell_type": "markdown",
   "metadata": {},
   "source": [
    "# SGD Cross Validation"
   ]
  },
  {
   "cell_type": "code",
   "execution_count": 4,
   "metadata": {},
   "outputs": [
    {
     "name": "stdout",
     "output_type": "stream",
     "text": [
      "\n",
      "CV result :\n",
      "    Accuracy\n",
      "0  0.866667\n",
      "1  0.800000\n",
      "2  0.866667\n",
      "3  0.866667\n",
      "4  0.866667\n",
      "5  0.933333\n",
      "6  0.866667\n",
      "7  1.000000\n",
      "8  0.933333\n",
      "9  0.866667\n",
      "\n",
      "CV average :\n",
      " Accuracy    0.886667\n",
      "dtype: float64\n"
     ]
    }
   ],
   "source": [
    "from sklearn.metrics import roc_auc_score, accuracy_score, confusion_matrix\n",
    "from sklearn.model_selection import StratifiedKFold\n",
    "cv_obj = StratifiedKFold(n_splits = 10, shuffle = True)\n",
    "clf = SGDClassifier(loss = 'perceptron', alpha = 1)\n",
    "\n",
    "result_acc = []\n",
    "result_conf = []\n",
    "for train_index, test_index in cv_obj.split(X, y):\n",
    "    X_train, X_test = X[train_index], X[test_index]\n",
    "    y_train, y_test = y[train_index], y[test_index]\n",
    "    \n",
    "    clf.fit(X_train, y_train)\n",
    "    y_hat = clf.predict(X_test)\n",
    "    \n",
    "    acc = accuracy_score(y_true = y_test, y_pred = y_hat)\n",
    "    conf = confusion_matrix(y_true = y_test, y_pred = y_hat)\n",
    "    \n",
    "    result_acc.append(acc)   # save result scores\n",
    "    result_conf.append(conf)\n",
    "    \n",
    "# Result Summary\n",
    "result_fold = pd.DataFrame(result_acc, columns = ['Accuracy'])\n",
    "print('\\nCV result :\\n', result_fold)\n",
    "print('\\nCV average :\\n', result_fold.mean())"
   ]
  },
  {
   "cell_type": "markdown",
   "metadata": {},
   "source": [
    "# Visualize Confusion Matrix"
   ]
  },
  {
   "cell_type": "code",
   "execution_count": 5,
   "metadata": {},
   "outputs": [
    {
     "data": {
      "text/plain": [
       "<matplotlib.image.AxesImage at 0x243e6ffc908>"
      ]
     },
     "execution_count": 5,
     "metadata": {},
     "output_type": "execute_result"
    },
    {
     "data": {
      "image/png": "[encoded data removed]",
      "text/plain": [
       "<Figure size 504x504 with 1 Axes>"
      ]
     },
     "metadata": {},
     "output_type": "display_data"
    }
   ],
   "source": [
    "from matplotlib import pyplot as plt\n",
    "%matplotlib inline\n",
    "\n",
    "# custom color scheme\n",
    "import matplotlib.colors\n",
    "cmap = matplotlib.colors.LinearSegmentedColormap.from_list(\"\", [\"blue\",\"white\"])\n",
    "\n",
    "# averaged confusion matrix\n",
    "conf_avg = np.mean(result_conf, axis = 0)\n",
    "\n",
    "# plot\n",
    "plt.figure(figsize = (7,7))\n",
    "plt.yticks(np.arange(conf_avg.shape[0]))\n",
    "plt.xticks(np.arange(conf_avg.shape[1]))\n",
    "plt.imshow(conf_avg, cmap = cmap)"
   ]
  }
 ],
 "metadata": {
  "kernelspec": {
   "display_name": "Python 3",
   "language": "python",
   "name": "python3"
  },
  "language_info": {
   "codemirror_mode": {
    "name": "ipython",
    "version": 3
   },
   "file_extension": ".py",
   "mimetype": "text/x-python",
   "name": "python",
   "nbconvert_exporter": "python",
   "pygments_lexer": "ipython3",
   "version": "3.6.6"
  }
 },
 "nbformat": 4,
 "nbformat_minor": 2
}
