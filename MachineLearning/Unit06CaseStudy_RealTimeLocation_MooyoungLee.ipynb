{
 "cells": [
  {
   "cell_type": "markdown",
   "metadata": {},
   "source": []
  },
  {
   "cell_type": "code",
   "execution_count": null,
   "metadata": {},
   "outputs": [],
   "source": []
  },
  {
   "cell_type": "code",
   "execution_count": null,
   "metadata": {},
   "outputs": [],
   "source": []
  },
  {
   "cell_type": "code",
   "execution_count": 1,
   "metadata": {},
   "outputs": [
    {
     "data": {
      "text/html": [
       "5312"
      ],
      "text/latex": [
       "5312"
      ],
      "text/markdown": [
       "5312"
      ],
      "text/plain": [
       "[1] 5312"
      ]
     },
     "metadata": {},
     "output_type": "display_data"
    },
    {
     "data": {
      "text/html": [
       "151392"
      ],
      "text/latex": [
       "151392"
      ],
      "text/markdown": [
       "151392"
      ],
      "text/plain": [
       "[1] 151392"
      ]
     },
     "metadata": {},
     "output_type": "display_data"
    },
    {
     "data": {
      "text/html": [
       "<ol class=list-inline>\n",
       "\t<li>'t=1139643118358'</li>\n",
       "\t<li>'id=00:02:2D:21:0F:33'</li>\n",
       "\t<li>'pos=0.0,0.0,0.0'</li>\n",
       "\t<li>'degree=0.0'</li>\n",
       "\t<li>'00:14:bf:b1:97:8a=-38,2437000000,3'</li>\n",
       "\t<li>'00:14:bf:b1:97:90=-56,2427000000,3'</li>\n",
       "\t<li>'00:0f:a3:39:e1:c0=-53,2462000000,3'</li>\n",
       "\t<li>'00:14:bf:b1:97:8d=-65,2442000000,3'</li>\n",
       "\t<li>'00:14:bf:b1:97:81=-65,2422000000,3'</li>\n",
       "\t<li>'00:14:bf:3b:c7:c6=-66,2432000000,3'</li>\n",
       "\t<li>'00:0f:a3:39:dd:cd=-75,2412000000,3'</li>\n",
       "\t<li>'00:0f:a3:39:e0:4b=-78,2462000000,3'</li>\n",
       "\t<li>'00:0f:a3:39:e2:10=-87,2437000000,3'</li>\n",
       "\t<li>'02:64:fb:68:52:e6=-88,2447000000,1'</li>\n",
       "\t<li>'02:00:42:55:31:00=-84,2457000000,1'</li>\n",
       "</ol>\n"
      ],
      "text/latex": [
       "\\begin{enumerate*}\n",
       "\\item 't=1139643118358'\n",
       "\\item 'id=00:02:2D:21:0F:33'\n",
       "\\item 'pos=0.0,0.0,0.0'\n",
       "\\item 'degree=0.0'\n",
       "\\item '00:14:bf:b1:97:8a=-38,2437000000,3'\n",
       "\\item '00:14:bf:b1:97:90=-56,2427000000,3'\n",
       "\\item '00:0f:a3:39:e1:c0=-53,2462000000,3'\n",
       "\\item '00:14:bf:b1:97:8d=-65,2442000000,3'\n",
       "\\item '00:14:bf:b1:97:81=-65,2422000000,3'\n",
       "\\item '00:14:bf:3b:c7:c6=-66,2432000000,3'\n",
       "\\item '00:0f:a3:39:dd:cd=-75,2412000000,3'\n",
       "\\item '00:0f:a3:39:e0:4b=-78,2462000000,3'\n",
       "\\item '00:0f:a3:39:e2:10=-87,2437000000,3'\n",
       "\\item '02:64:fb:68:52:e6=-88,2447000000,1'\n",
       "\\item '02:00:42:55:31:00=-84,2457000000,1'\n",
       "\\end{enumerate*}\n"
      ],
      "text/markdown": [
       "1. 't=1139643118358'\n",
       "2. 'id=00:02:2D:21:0F:33'\n",
       "3. 'pos=0.0,0.0,0.0'\n",
       "4. 'degree=0.0'\n",
       "5. '00:14:bf:b1:97:8a=-38,2437000000,3'\n",
       "6. '00:14:bf:b1:97:90=-56,2427000000,3'\n",
       "7. '00:0f:a3:39:e1:c0=-53,2462000000,3'\n",
       "8. '00:14:bf:b1:97:8d=-65,2442000000,3'\n",
       "9. '00:14:bf:b1:97:81=-65,2422000000,3'\n",
       "10. '00:14:bf:3b:c7:c6=-66,2432000000,3'\n",
       "11. '00:0f:a3:39:dd:cd=-75,2412000000,3'\n",
       "12. '00:0f:a3:39:e0:4b=-78,2462000000,3'\n",
       "13. '00:0f:a3:39:e2:10=-87,2437000000,3'\n",
       "14. '02:64:fb:68:52:e6=-88,2447000000,1'\n",
       "15. '02:00:42:55:31:00=-84,2457000000,1'\n",
       "\n",
       "\n"
      ],
      "text/plain": [
       " [1] \"t=1139643118358\"                    \"id=00:02:2D:21:0F:33\"              \n",
       " [3] \"pos=0.0,0.0,0.0\"                    \"degree=0.0\"                        \n",
       " [5] \"00:14:bf:b1:97:8a=-38,2437000000,3\" \"00:14:bf:b1:97:90=-56,2427000000,3\"\n",
       " [7] \"00:0f:a3:39:e1:c0=-53,2462000000,3\" \"00:14:bf:b1:97:8d=-65,2442000000,3\"\n",
       " [9] \"00:14:bf:b1:97:81=-65,2422000000,3\" \"00:14:bf:3b:c7:c6=-66,2432000000,3\"\n",
       "[11] \"00:0f:a3:39:dd:cd=-75,2412000000,3\" \"00:0f:a3:39:e0:4b=-78,2462000000,3\"\n",
       "[13] \"00:0f:a3:39:e2:10=-87,2437000000,3\" \"02:64:fb:68:52:e6=-88,2447000000,1\"\n",
       "[15] \"02:00:42:55:31:00=-84,2457000000,1\""
      ]
     },
     "metadata": {},
     "output_type": "display_data"
    },
    {
     "data": {
      "text/html": [
       "<ol class=list-inline>\n",
       "\t<li>'t'</li>\n",
       "\t<li>'1139643118358'</li>\n",
       "\t<li>'id'</li>\n",
       "\t<li>'00:02:2D:21:0F:33'</li>\n",
       "\t<li>'pos'</li>\n",
       "\t<li>'0.0'</li>\n",
       "\t<li>'0.0'</li>\n",
       "\t<li>'0.0'</li>\n",
       "\t<li>'degree'</li>\n",
       "\t<li>'0.0'</li>\n",
       "</ol>\n"
      ],
      "text/latex": [
       "\\begin{enumerate*}\n",
       "\\item 't'\n",
       "\\item '1139643118358'\n",
       "\\item 'id'\n",
       "\\item '00:02:2D:21:0F:33'\n",
       "\\item 'pos'\n",
       "\\item '0.0'\n",
       "\\item '0.0'\n",
       "\\item '0.0'\n",
       "\\item 'degree'\n",
       "\\item '0.0'\n",
       "\\end{enumerate*}\n"
      ],
      "text/markdown": [
       "1. 't'\n",
       "2. '1139643118358'\n",
       "3. 'id'\n",
       "4. '00:02:2D:21:0F:33'\n",
       "5. 'pos'\n",
       "6. '0.0'\n",
       "7. '0.0'\n",
       "8. '0.0'\n",
       "9. 'degree'\n",
       "10. '0.0'\n",
       "\n",
       "\n"
      ],
      "text/plain": [
       " [1] \"t\"                 \"1139643118358\"     \"id\"               \n",
       " [4] \"00:02:2D:21:0F:33\" \"pos\"               \"0.0\"              \n",
       " [7] \"0.0\"               \"0.0\"               \"degree\"           \n",
       "[10] \"0.0\"              "
      ]
     },
     "metadata": {},
     "output_type": "display_data"
    },
    {
     "data": {
      "text/html": [
       "<ol class=list-inline>\n",
       "\t<li>'1139643118358'</li>\n",
       "\t<li>'00:02:2D:21:0F:33'</li>\n",
       "\t<li>'0.0'</li>\n",
       "\t<li>'0.0'</li>\n",
       "\t<li>'0.0'</li>\n",
       "\t<li>'0.0'</li>\n",
       "</ol>\n"
      ],
      "text/latex": [
       "\\begin{enumerate*}\n",
       "\\item '1139643118358'\n",
       "\\item '00:02:2D:21:0F:33'\n",
       "\\item '0.0'\n",
       "\\item '0.0'\n",
       "\\item '0.0'\n",
       "\\item '0.0'\n",
       "\\end{enumerate*}\n"
      ],
      "text/markdown": [
       "1. '1139643118358'\n",
       "2. '00:02:2D:21:0F:33'\n",
       "3. '0.0'\n",
       "4. '0.0'\n",
       "5. '0.0'\n",
       "6. '0.0'\n",
       "\n",
       "\n"
      ],
      "text/plain": [
       "[1] \"1139643118358\"     \"00:02:2D:21:0F:33\" \"0.0\"              \n",
       "[4] \"0.0\"               \"0.0\"               \"0.0\"              "
      ]
     },
     "metadata": {},
     "output_type": "display_data"
    },
    {
     "data": {
      "text/html": [
       "<ol class=list-inline>\n",
       "\t<li>'00:14:bf:b1:97:8a'</li>\n",
       "\t<li>'-38'</li>\n",
       "\t<li>'2437000000'</li>\n",
       "\t<li>'3'</li>\n",
       "\t<li>'00:14:bf:b1:97:90'</li>\n",
       "\t<li>'-56'</li>\n",
       "\t<li>'2427000000'</li>\n",
       "\t<li>'3'</li>\n",
       "\t<li>'00:0f:a3:39:e1:c0'</li>\n",
       "\t<li>'-53'</li>\n",
       "\t<li>'2462000000'</li>\n",
       "\t<li>'3'</li>\n",
       "\t<li>'00:14:bf:b1:97:8d'</li>\n",
       "\t<li>'-65'</li>\n",
       "\t<li>'2442000000'</li>\n",
       "\t<li>'3'</li>\n",
       "\t<li>'00:14:bf:b1:97:81'</li>\n",
       "\t<li>'-65'</li>\n",
       "\t<li>'2422000000'</li>\n",
       "\t<li>'3'</li>\n",
       "\t<li>'00:14:bf:3b:c7:c6'</li>\n",
       "\t<li>'-66'</li>\n",
       "\t<li>'2432000000'</li>\n",
       "\t<li>'3'</li>\n",
       "\t<li>'00:0f:a3:39:dd:cd'</li>\n",
       "\t<li>'-75'</li>\n",
       "\t<li>'2412000000'</li>\n",
       "\t<li>'3'</li>\n",
       "\t<li>'00:0f:a3:39:e0:4b'</li>\n",
       "\t<li>'-78'</li>\n",
       "\t<li>'2462000000'</li>\n",
       "\t<li>'3'</li>\n",
       "\t<li>'00:0f:a3:39:e2:10'</li>\n",
       "\t<li>'-87'</li>\n",
       "\t<li>'2437000000'</li>\n",
       "\t<li>'3'</li>\n",
       "\t<li>'02:64:fb:68:52:e6'</li>\n",
       "\t<li>'-88'</li>\n",
       "\t<li>'2447000000'</li>\n",
       "\t<li>'1'</li>\n",
       "\t<li>'02:00:42:55:31:00'</li>\n",
       "\t<li>'-84'</li>\n",
       "\t<li>'2457000000'</li>\n",
       "\t<li>'1'</li>\n",
       "</ol>\n"
      ],
      "text/latex": [
       "\\begin{enumerate*}\n",
       "\\item '00:14:bf:b1:97:8a'\n",
       "\\item '-38'\n",
       "\\item '2437000000'\n",
       "\\item '3'\n",
       "\\item '00:14:bf:b1:97:90'\n",
       "\\item '-56'\n",
       "\\item '2427000000'\n",
       "\\item '3'\n",
       "\\item '00:0f:a3:39:e1:c0'\n",
       "\\item '-53'\n",
       "\\item '2462000000'\n",
       "\\item '3'\n",
       "\\item '00:14:bf:b1:97:8d'\n",
       "\\item '-65'\n",
       "\\item '2442000000'\n",
       "\\item '3'\n",
       "\\item '00:14:bf:b1:97:81'\n",
       "\\item '-65'\n",
       "\\item '2422000000'\n",
       "\\item '3'\n",
       "\\item '00:14:bf:3b:c7:c6'\n",
       "\\item '-66'\n",
       "\\item '2432000000'\n",
       "\\item '3'\n",
       "\\item '00:0f:a3:39:dd:cd'\n",
       "\\item '-75'\n",
       "\\item '2412000000'\n",
       "\\item '3'\n",
       "\\item '00:0f:a3:39:e0:4b'\n",
       "\\item '-78'\n",
       "\\item '2462000000'\n",
       "\\item '3'\n",
       "\\item '00:0f:a3:39:e2:10'\n",
       "\\item '-87'\n",
       "\\item '2437000000'\n",
       "\\item '3'\n",
       "\\item '02:64:fb:68:52:e6'\n",
       "\\item '-88'\n",
       "\\item '2447000000'\n",
       "\\item '1'\n",
       "\\item '02:00:42:55:31:00'\n",
       "\\item '-84'\n",
       "\\item '2457000000'\n",
       "\\item '1'\n",
       "\\end{enumerate*}\n"
      ],
      "text/markdown": [
       "1. '00:14:bf:b1:97:8a'\n",
       "2. '-38'\n",
       "3. '2437000000'\n",
       "4. '3'\n",
       "5. '00:14:bf:b1:97:90'\n",
       "6. '-56'\n",
       "7. '2427000000'\n",
       "8. '3'\n",
       "9. '00:0f:a3:39:e1:c0'\n",
       "10. '-53'\n",
       "11. '2462000000'\n",
       "12. '3'\n",
       "13. '00:14:bf:b1:97:8d'\n",
       "14. '-65'\n",
       "15. '2442000000'\n",
       "16. '3'\n",
       "17. '00:14:bf:b1:97:81'\n",
       "18. '-65'\n",
       "19. '2422000000'\n",
       "20. '3'\n",
       "21. '00:14:bf:3b:c7:c6'\n",
       "22. '-66'\n",
       "23. '2432000000'\n",
       "24. '3'\n",
       "25. '00:0f:a3:39:dd:cd'\n",
       "26. '-75'\n",
       "27. '2412000000'\n",
       "28. '3'\n",
       "29. '00:0f:a3:39:e0:4b'\n",
       "30. '-78'\n",
       "31. '2462000000'\n",
       "32. '3'\n",
       "33. '00:0f:a3:39:e2:10'\n",
       "34. '-87'\n",
       "35. '2437000000'\n",
       "36. '3'\n",
       "37. '02:64:fb:68:52:e6'\n",
       "38. '-88'\n",
       "39. '2447000000'\n",
       "40. '1'\n",
       "41. '02:00:42:55:31:00'\n",
       "42. '-84'\n",
       "43. '2457000000'\n",
       "44. '1'\n",
       "\n",
       "\n"
      ],
      "text/plain": [
       " [1] \"00:14:bf:b1:97:8a\" \"-38\"               \"2437000000\"       \n",
       " [4] \"3\"                 \"00:14:bf:b1:97:90\" \"-56\"              \n",
       " [7] \"2427000000\"        \"3\"                 \"00:0f:a3:39:e1:c0\"\n",
       "[10] \"-53\"               \"2462000000\"        \"3\"                \n",
       "[13] \"00:14:bf:b1:97:8d\" \"-65\"               \"2442000000\"       \n",
       "[16] \"3\"                 \"00:14:bf:b1:97:81\" \"-65\"              \n",
       "[19] \"2422000000\"        \"3\"                 \"00:14:bf:3b:c7:c6\"\n",
       "[22] \"-66\"               \"2432000000\"        \"3\"                \n",
       "[25] \"00:0f:a3:39:dd:cd\" \"-75\"               \"2412000000\"       \n",
       "[28] \"3\"                 \"00:0f:a3:39:e0:4b\" \"-78\"              \n",
       "[31] \"2462000000\"        \"3\"                 \"00:0f:a3:39:e2:10\"\n",
       "[34] \"-87\"               \"2437000000\"        \"3\"                \n",
       "[37] \"02:64:fb:68:52:e6\" \"-88\"               \"2447000000\"       \n",
       "[40] \"1\"                 \"02:00:42:55:31:00\" \"-84\"              \n",
       "[43] \"2457000000\"        \"1\"                "
      ]
     },
     "metadata": {},
     "output_type": "display_data"
    },
    {
     "data": {
      "text/html": [
       "<ol class=list-inline>\n",
       "\t<li>11</li>\n",
       "\t<li>10</li>\n",
       "</ol>\n"
      ],
      "text/latex": [
       "\\begin{enumerate*}\n",
       "\\item 11\n",
       "\\item 10\n",
       "\\end{enumerate*}\n"
      ],
      "text/markdown": [
       "1. 11\n",
       "2. 10\n",
       "\n",
       "\n"
      ],
      "text/plain": [
       "[1] 11 10"
      ]
     },
     "metadata": {},
     "output_type": "display_data"
    }
   ],
   "source": [
    "options(digits = 2)\n",
    "\n",
    "txt = readLines(\"data/offline.final.trace.txt\")\n",
    "\n",
    "sum(substr(txt, 1, 1) == \"#\")\n",
    "\n",
    "length(txt)\n",
    "\n",
    "strsplit(txt[4], \";\")[[1]]\n",
    "\n",
    "tokens = strsplit(txt[4], \"[;=,]\")[[1]]\n",
    "\n",
    "tokens[1:10]\n",
    "\n",
    "tokens[c(2, 4, 6:8, 10)]\n",
    "\n",
    "tokens[ - ( 1:10 ) ]\n",
    "\n",
    "tmp = matrix(tokens[ - (1:10) ], ncol = 4, byrow = TRUE)\n",
    "mat = cbind(matrix(tokens[c(2, 4, 6:8, 10)], nrow = nrow(tmp),\n",
    "                   ncol = 6, byrow = TRUE), \n",
    "            tmp)\n",
    "\n",
    "dim(mat)"
   ]
  },
  {
   "cell_type": "code",
   "execution_count": 2,
   "metadata": {},
   "outputs": [
    {
     "data": {
      "text/html": [
       "<ol class=list-inline>\n",
       "\t<li>11</li>\n",
       "\t<li>10</li>\n",
       "\t<li>10</li>\n",
       "\t<li>11</li>\n",
       "\t<li>9</li>\n",
       "\t<li>10</li>\n",
       "\t<li>9</li>\n",
       "\t<li>9</li>\n",
       "\t<li>10</li>\n",
       "\t<li>11</li>\n",
       "\t<li>11</li>\n",
       "\t<li>9</li>\n",
       "\t<li>9</li>\n",
       "\t<li>9</li>\n",
       "\t<li>8</li>\n",
       "\t<li>10</li>\n",
       "\t<li>14</li>\n",
       "</ol>\n"
      ],
      "text/latex": [
       "\\begin{enumerate*}\n",
       "\\item 11\n",
       "\\item 10\n",
       "\\item 10\n",
       "\\item 11\n",
       "\\item 9\n",
       "\\item 10\n",
       "\\item 9\n",
       "\\item 9\n",
       "\\item 10\n",
       "\\item 11\n",
       "\\item 11\n",
       "\\item 9\n",
       "\\item 9\n",
       "\\item 9\n",
       "\\item 8\n",
       "\\item 10\n",
       "\\item 14\n",
       "\\end{enumerate*}\n"
      ],
      "text/markdown": [
       "1. 11\n",
       "2. 10\n",
       "3. 10\n",
       "4. 11\n",
       "5. 9\n",
       "6. 10\n",
       "7. 9\n",
       "8. 9\n",
       "9. 10\n",
       "10. 11\n",
       "11. 11\n",
       "12. 9\n",
       "13. 9\n",
       "14. 9\n",
       "15. 8\n",
       "16. 10\n",
       "17. 14\n",
       "\n",
       "\n"
      ],
      "text/plain": [
       " [1] 11 10 10 11  9 10  9  9 10 11 11  9  9  9  8 10 14"
      ]
     },
     "metadata": {},
     "output_type": "display_data"
    },
    {
     "data": {
      "text/html": [
       "<ol class=list-inline>\n",
       "\t<li>170</li>\n",
       "\t<li>10</li>\n",
       "</ol>\n"
      ],
      "text/latex": [
       "\\begin{enumerate*}\n",
       "\\item 170\n",
       "\\item 10\n",
       "\\end{enumerate*}\n"
      ],
      "text/markdown": [
       "1. 170\n",
       "2. 10\n",
       "\n",
       "\n"
      ],
      "text/plain": [
       "[1] 170  10"
      ]
     },
     "metadata": {},
     "output_type": "display_data"
    },
    {
     "name": "stderr",
     "output_type": "stream",
     "text": [
      "Warning message in matrix(tokens[c(2, 4, 6:8, 10)], nrow = nrow(tmp), ncol = 6, :\n",
      "\"data length exceeds size of matrix\"Warning message in matrix(tokens[c(2, 4, 6:8, 10)], nrow = nrow(tmp), ncol = 6, :\n",
      "\"data length exceeds size of matrix\"Warning message in matrix(tokens[c(2, 4, 6:8, 10)], nrow = nrow(tmp), ncol = 6, :\n",
      "\"data length exceeds size of matrix\"Warning message in matrix(tokens[c(2, 4, 6:8, 10)], nrow = nrow(tmp), ncol = 6, :\n",
      "\"data length exceeds size of matrix\"Warning message in matrix(tokens[c(2, 4, 6:8, 10)], nrow = nrow(tmp), ncol = 6, :\n",
      "\"data length exceeds size of matrix\"Warning message in matrix(tokens[c(2, 4, 6:8, 10)], nrow = nrow(tmp), ncol = 6, :\n",
      "\"data length exceeds size of matrix\""
     ]
    },
    {
     "data": {
      "text/html": [
       "<ol class=list-inline>\n",
       "\t<li>1181628</li>\n",
       "\t<li>10</li>\n",
       "</ol>\n"
      ],
      "text/latex": [
       "\\begin{enumerate*}\n",
       "\\item 1181628\n",
       "\\item 10\n",
       "\\end{enumerate*}\n"
      ],
      "text/markdown": [
       "1. 1181628\n",
       "2. 10\n",
       "\n",
       "\n"
      ],
      "text/plain": [
       "[1] 1181628      10"
      ]
     },
     "metadata": {},
     "output_type": "display_data"
    },
    {
     "data": {
      "text/html": [
       "<ol class=list-inline>\n",
       "\t<li>978443</li>\n",
       "\t<li>9</li>\n",
       "</ol>\n"
      ],
      "text/latex": [
       "\\begin{enumerate*}\n",
       "\\item 978443\n",
       "\\item 9\n",
       "\\end{enumerate*}\n"
      ],
      "text/markdown": [
       "1. 978443\n",
       "2. 9\n",
       "\n",
       "\n"
      ],
      "text/plain": [
       "[1] 978443      9"
      ]
     },
     "metadata": {},
     "output_type": "display_data"
    }
   ],
   "source": [
    "processLine =\n",
    "function(x)\n",
    "{\n",
    "  tokens = strsplit(x, \"[;=,]\")[[1]]\n",
    "  tmp = matrix(tokens[ - (1:10) ], ncol = 4, byrow = TRUE)\n",
    "  cbind(matrix(tokens[c(2, 4, 6:8, 10)], nrow = nrow(tmp),\n",
    "               ncol = 6, byrow = TRUE), tmp)\n",
    "}\n",
    "\n",
    "tmp = lapply(txt[4:20], processLine)\n",
    "\n",
    "sapply(tmp, nrow)\n",
    "\n",
    "offline = as.data.frame(do.call(\"rbind\", tmp))\n",
    "dim(offline)\n",
    "\n",
    "lines = txt[ substr(txt, 1, 1) != \"#\" ]\n",
    "tmp = lapply(lines, processLine)\n",
    "\n",
    "processLine = function(x)\n",
    "{\n",
    "  tokens = strsplit(x, \"[;=,]\")[[1]]\n",
    "  \n",
    "  if (length(tokens) == 10) \n",
    "    return(NULL)\n",
    " \n",
    "  tmp = matrix(tokens[ - (1:10) ], , 4, byrow = TRUE)\n",
    "  cbind(matrix(tokens[c(2, 4, 6:8, 10)], nrow(tmp), 6, \n",
    "               byrow = TRUE), tmp)\n",
    "}\n",
    "\n",
    "options(error = recover, warn = 1)\n",
    "tmp = lapply(lines, processLine)\n",
    "offline = as.data.frame(do.call(\"rbind\", tmp), \n",
    "                        stringsAsFactors = FALSE)\n",
    "\n",
    "dim(offline)\n",
    "\n",
    "names(offline) = c(\"time\", \"scanMac\", \"posX\", \"posY\", \"posZ\", \n",
    "                   \"orientation\", \"mac\", \"signal\", \n",
    "                   \"channel\", \"type\")\n",
    "\n",
    "numVars = c(\"time\", \"posX\", \"posY\", \"posZ\", \n",
    "            \"orientation\", \"signal\")\n",
    "offline[ numVars ] =  lapply(offline[ numVars ], as.numeric)\n",
    "\n",
    "offline = offline[ offline$type == \"3\", ]\n",
    "offline = offline[ , \"type\" != names(offline) ]\n",
    "dim(offline)"
   ]
  },
  {
   "cell_type": "code",
   "execution_count": 3,
   "metadata": {},
   "outputs": [
    {
     "data": {
      "text/html": [
       "<dl class=dl-horizontal>\n",
       "\t<dt>time1</dt>\n",
       "\t\t<dd>'POSIXt'</dd>\n",
       "\t<dt>time2</dt>\n",
       "\t\t<dd>'POSIXct'</dd>\n",
       "\t<dt>scanMac</dt>\n",
       "\t\t<dd>'character'</dd>\n",
       "\t<dt>posX</dt>\n",
       "\t\t<dd>'numeric'</dd>\n",
       "\t<dt>posY</dt>\n",
       "\t\t<dd>'numeric'</dd>\n",
       "\t<dt>posZ</dt>\n",
       "\t\t<dd>'numeric'</dd>\n",
       "\t<dt>orientation</dt>\n",
       "\t\t<dd>'numeric'</dd>\n",
       "\t<dt>mac</dt>\n",
       "\t\t<dd>'character'</dd>\n",
       "\t<dt>signal</dt>\n",
       "\t\t<dd>'numeric'</dd>\n",
       "\t<dt>channel</dt>\n",
       "\t\t<dd>'character'</dd>\n",
       "\t<dt>rawTime</dt>\n",
       "\t\t<dd>'numeric'</dd>\n",
       "</dl>\n"
      ],
      "text/latex": [
       "\\begin{description*}\n",
       "\\item[time1] 'POSIXt'\n",
       "\\item[time2] 'POSIXct'\n",
       "\\item[scanMac] 'character'\n",
       "\\item[posX] 'numeric'\n",
       "\\item[posY] 'numeric'\n",
       "\\item[posZ] 'numeric'\n",
       "\\item[orientation] 'numeric'\n",
       "\\item[mac] 'character'\n",
       "\\item[signal] 'numeric'\n",
       "\\item[channel] 'character'\n",
       "\\item[rawTime] 'numeric'\n",
       "\\end{description*}\n"
      ],
      "text/markdown": [
       "time1\n",
       ":   'POSIXt'time2\n",
       ":   'POSIXct'scanMac\n",
       ":   'character'posX\n",
       ":   'numeric'posY\n",
       ":   'numeric'posZ\n",
       ":   'numeric'orientation\n",
       ":   'numeric'mac\n",
       ":   'character'signal\n",
       ":   'numeric'channel\n",
       ":   'character'rawTime\n",
       ":   'numeric'\n",
       "\n"
      ],
      "text/plain": [
       "      time1       time2     scanMac        posX        posY        posZ \n",
       "   \"POSIXt\"   \"POSIXct\" \"character\"   \"numeric\"   \"numeric\"   \"numeric\" \n",
       "orientation         mac      signal     channel     rawTime \n",
       "  \"numeric\" \"character\"   \"numeric\" \"character\"   \"numeric\" "
      ]
     },
     "metadata": {},
     "output_type": "display_data"
    },
    {
     "data": {
      "text/plain": [
       "      time                          posX         posY           posZ  \n",
       " Min.   :2006-02-11 01:31:58   Min.   : 0   Min.   : 0.0   Min.   :0  \n",
       " 1st Qu.:2006-02-11 07:21:27   1st Qu.: 2   1st Qu.: 3.0   1st Qu.:0  \n",
       " Median :2006-02-11 13:57:58   Median :12   Median : 6.0   Median :0  \n",
       " Mean   :2006-02-16 08:57:37   Mean   :14   Mean   : 5.9   Mean   :0  \n",
       " 3rd Qu.:2006-02-19 08:52:40   3rd Qu.:23   3rd Qu.: 8.0   3rd Qu.:0  \n",
       " Max.   :2006-03-09 14:41:10   Max.   :33   Max.   :13.0   Max.   :0  \n",
       "  orientation      signal   \n",
       " Min.   :  0   Min.   :-99  \n",
       " 1st Qu.: 90   1st Qu.:-69  \n",
       " Median :180   Median :-60  \n",
       " Mean   :167   Mean   :-62  \n",
       " 3rd Qu.:270   3rd Qu.:-53  \n",
       " Max.   :360   Max.   :-25  "
      ]
     },
     "metadata": {},
     "output_type": "display_data"
    },
    {
     "data": {
      "text/plain": [
       "                mac               channel                    scanMac      \n",
       " 00:0f:a3:39:e1:c0:145862   2462000000:189774   00:02:2D:21:0F:33:978443  \n",
       " 00:0f:a3:39:dd:cd:145619   2437000000:152124                             \n",
       " 00:14:bf:b1:97:8a:132962   2412000000:145619                             \n",
       " 00:14:bf:3b:c7:c6:126529   2432000000:126529                             \n",
       " 00:14:bf:b1:97:90:122315   2427000000:122315                             \n",
       " 00:14:bf:b1:97:8d:121325   2442000000:121325                             \n",
       " (Other)          :183831   (Other)   :120757                             "
      ]
     },
     "metadata": {},
     "output_type": "display_data"
    },
    {
     "data": {
      "text/html": [
       "203"
      ],
      "text/latex": [
       "203"
      ],
      "text/markdown": [
       "203"
      ],
      "text/plain": [
       "[1] 203"
      ]
     },
     "metadata": {},
     "output_type": "display_data"
    },
    {
     "data": {
      "image/png": "[encoded data removed]",
      "text/plain": [
       "Plot with title \"ecdf(offline$orientation)\""
      ]
     },
     "metadata": {},
     "output_type": "display_data"
    }
   ],
   "source": [
    "offline$rawTime = offline$time\n",
    "offline$time = offline$time/1000\n",
    "class(offline$time) = c(\"POSIXt\", \"POSIXct\")\n",
    "\n",
    "unlist(lapply(offline, class))\n",
    "\n",
    "summary(offline[, numVars])\n",
    "\n",
    " summary(sapply(offline[ , c(\"mac\", \"channel\", \"scanMac\")],\n",
    "                as.factor))\n",
    "\n",
    "offline = offline[ , !(names(offline) %in% c(\"scanMac\", \"posZ\"))]\n",
    "\n",
    "length(unique(offline$orientation))\n",
    "\n",
    "plot(ecdf(offline$orientation))"
   ]
  },
  {
   "cell_type": "code",
   "execution_count": 4,
   "metadata": {},
   "outputs": [
    {
     "data": {
      "text/html": [
       "<strong>png:</strong> 2"
      ],
      "text/latex": [
       "\\textbf{png:} 2"
      ],
      "text/markdown": [
       "**png:** 2"
      ],
      "text/plain": [
       "png \n",
       "  2 "
      ]
     },
     "metadata": {},
     "output_type": "display_data"
    },
    {
     "data": {
      "text/html": [
       "<strong>png:</strong> 2"
      ],
      "text/latex": [
       "\\textbf{png:} 2"
      ],
      "text/markdown": [
       "**png:** 2"
      ],
      "text/plain": [
       "png \n",
       "  2 "
      ]
     },
     "metadata": {},
     "output_type": "display_data"
    }
   ],
   "source": [
    "pdf(file = \"Geo_ECDFOrientation.pdf\", width = 10, height = 7)\n",
    "oldPar = par(mar = c(4, 4, 1, 1))\n",
    "plot(ecdf(offline$orientation), pch = 19, cex = 0.3,\n",
    "     xlim = c(-5, 365), axes = FALSE,\n",
    "     xlab = \"orientation\", ylab = \"Empirical CDF\", main = \"\")\n",
    "box()\n",
    "axis(2)\n",
    "axis(side = 1, at = seq(0, 360, by = 45))\n",
    "par(oldPar)\n",
    "dev.off()\n",
    "\n",
    "pdf(file = \"Geo_DensityOrientation.pdf\", width = 10, height = 5)\n",
    "oldPar = par(mar = c(4, 4, 1, 1))\n",
    "plot(density(offline$orientation, bw = 2), \n",
    " xlab = \"orientation\", main = \"\")\n",
    "par(oldPar)\n",
    "dev.off()"
   ]
  },
  {
   "cell_type": "code",
   "execution_count": 5,
   "metadata": {},
   "outputs": [
    {
     "data": {
      "text/html": [
       "<strong>png:</strong> 2"
      ],
      "text/latex": [
       "\\textbf{png:} 2"
      ],
      "text/markdown": [
       "**png:** 2"
      ],
      "text/plain": [
       "png \n",
       "  2 "
      ]
     },
     "metadata": {},
     "output_type": "display_data"
    },
    {
     "data": {
      "text/html": [
       "<ol class=list-inline>\n",
       "\t<li>12</li>\n",
       "\t<li>8</li>\n",
       "</ol>\n"
      ],
      "text/latex": [
       "\\begin{enumerate*}\n",
       "\\item 12\n",
       "\\item 8\n",
       "\\end{enumerate*}\n"
      ],
      "text/markdown": [
       "1. 12\n",
       "2. 8\n",
       "\n",
       "\n"
      ],
      "text/plain": [
       "[1] 12  8"
      ]
     },
     "metadata": {},
     "output_type": "display_data"
    },
    {
     "data": {
      "text/plain": [
       "\n",
       "00:04:0e:5c:23:fc 00:0f:a3:39:dd:cd 00:0f:a3:39:e0:4b 00:0f:a3:39:e1:c0 \n",
       "              418            145619             43508            145862 \n",
       "00:0f:a3:39:e2:10 00:14:bf:3b:c7:c6 00:14:bf:b1:97:81 00:14:bf:b1:97:8a \n",
       "            19162            126529            120339            132962 \n",
       "00:14:bf:b1:97:8d 00:14:bf:b1:97:90 00:30:bd:f8:7f:c5 00:e0:63:82:8b:a9 \n",
       "           121325            122315               301               103 "
      ]
     },
     "metadata": {},
     "output_type": "display_data"
    },
    {
     "data": {
      "text/html": [
       "<dl class=dl-horizontal>\n",
       "\t<dt>00:0f:a3:39:dd:cd</dt>\n",
       "\t\t<dd>1</dd>\n",
       "\t<dt>00:0f:a3:39:e1:c0</dt>\n",
       "\t\t<dd>1</dd>\n",
       "\t<dt>00:14:bf:3b:c7:c6</dt>\n",
       "\t\t<dd>1</dd>\n",
       "\t<dt>00:14:bf:b1:97:81</dt>\n",
       "\t\t<dd>1</dd>\n",
       "\t<dt>00:14:bf:b1:97:8a</dt>\n",
       "\t\t<dd>1</dd>\n",
       "\t<dt>00:14:bf:b1:97:8d</dt>\n",
       "\t\t<dd>1</dd>\n",
       "\t<dt>00:14:bf:b1:97:90</dt>\n",
       "\t\t<dd>1</dd>\n",
       "</dl>\n"
      ],
      "text/latex": [
       "\\begin{description*}\n",
       "\\item[00:0f:a3:39:dd:cd] 1\n",
       "\\item[00:0f:a3:39:e1:c0] 1\n",
       "\\item[00:14:bf:3b:c7:c6] 1\n",
       "\\item[00:14:bf:b1:97:81] 1\n",
       "\\item[00:14:bf:b1:97:8a] 1\n",
       "\\item[00:14:bf:b1:97:8d] 1\n",
       "\\item[00:14:bf:b1:97:90] 1\n",
       "\\end{description*}\n"
      ],
      "text/markdown": [
       "00:0f:a3:39:dd:cd\n",
       ":   100:0f:a3:39:e1:c0\n",
       ":   100:14:bf:3b:c7:c6\n",
       ":   100:14:bf:b1:97:81\n",
       ":   100:14:bf:b1:97:8a\n",
       ":   100:14:bf:b1:97:8d\n",
       ":   100:14:bf:b1:97:90\n",
       ":   1\n",
       "\n"
      ],
      "text/plain": [
       "00:0f:a3:39:dd:cd 00:0f:a3:39:e1:c0 00:14:bf:3b:c7:c6 00:14:bf:b1:97:81 \n",
       "                1                 1                 1                 1 \n",
       "00:14:bf:b1:97:8a 00:14:bf:b1:97:8d 00:14:bf:b1:97:90 \n",
       "                1                 1                 1 "
      ]
     },
     "metadata": {},
     "output_type": "display_data"
    },
    {
     "data": {
      "text/html": [
       "476"
      ],
      "text/latex": [
       "476"
      ],
      "text/markdown": [
       "476"
      ],
      "text/plain": [
       "[1] 476"
      ]
     },
     "metadata": {},
     "output_type": "display_data"
    },
    {
     "data": {
      "text/html": [
       "310"
      ],
      "text/latex": [
       "310"
      ],
      "text/markdown": [
       "310"
      ],
      "text/plain": [
       "[1] 310"
      ]
     },
     "metadata": {},
     "output_type": "display_data"
    },
    {
     "data": {
      "text/html": [
       "166"
      ],
      "text/latex": [
       "166"
      ],
      "text/markdown": [
       "166"
      ],
      "text/plain": [
       "[1] 166"
      ]
     },
     "metadata": {},
     "output_type": "display_data"
    },
    {
     "data": {
      "text/html": [
       "'matrix'"
      ],
      "text/latex": [
       "'matrix'"
      ],
      "text/markdown": [
       "'matrix'"
      ],
      "text/plain": [
       "[1] \"matrix\""
      ]
     },
     "metadata": {},
     "output_type": "display_data"
    },
    {
     "data": {
      "text/html": [
       "<ol class=list-inline>\n",
       "\t<li>3</li>\n",
       "\t<li>166</li>\n",
       "</ol>\n"
      ],
      "text/latex": [
       "\\begin{enumerate*}\n",
       "\\item 3\n",
       "\\item 166\n",
       "\\end{enumerate*}\n"
      ],
      "text/markdown": [
       "1. 3\n",
       "2. 166\n",
       "\n",
       "\n"
      ],
      "text/plain": [
       "[1]   3 166"
      ]
     },
     "metadata": {},
     "output_type": "display_data"
    },
    {
     "data": {
      "text/html": [
       "<table>\n",
       "<tbody>\n",
       "\t<tr><th scope=row>posX</th><td>0</td><td>1</td><td>2</td><td>0</td><td>1</td><td>2</td><td>0</td><td>1</td></tr>\n",
       "\t<tr><th scope=row>posY</th><td>0</td><td>0</td><td>0</td><td>1</td><td>1</td><td>1</td><td>2</td><td>2</td></tr>\n",
       "\t<tr><th scope=row>count</th><td>5505</td><td>5505</td><td>5506</td><td>5524</td><td>5543</td><td>5558</td><td>5503</td><td>5564</td></tr>\n",
       "</tbody>\n",
       "</table>\n"
      ],
      "text/latex": [
       "\\begin{tabular}{r|llllllll}\n",
       "\tposX & 0 & 1 & 2 & 0 & 1 & 2 & 0 & 1\\\\\n",
       "\tposY & 0 & 0 & 0 & 1 & 1 & 1 & 2 & 2\\\\\n",
       "\tcount & 5505 & 5505 & 5506 & 5524 & 5543 & 5558 & 5503 & 5564\\\\\n",
       "\\end{tabular}\n"
      ],
      "text/markdown": [
       "\n",
       "| posX | 0 | 1 | 2 | 0 | 1 | 2 | 0 | 1 | \n",
       "| posY | 0 | 0 | 0 | 1 | 1 | 1 | 2 | 2 | \n",
       "| count | 5505 | 5505 | 5506 | 5524 | 5543 | 5558 | 5503 | 5564 | \n",
       "\n",
       "\n"
      ],
      "text/plain": [
       "      [,1] [,2] [,3] [,4] [,5] [,6] [,7] [,8]\n",
       "posX  0    1    2    0    1    2    0    1   \n",
       "posY  0    0    0    1    1    1    2    2   \n",
       "count 5505 5505 5506 5524 5543 5558 5503 5564"
      ]
     },
     "metadata": {},
     "output_type": "display_data"
    },
    {
     "data": {
      "text/html": [
       "<strong>png:</strong> 2"
      ],
      "text/latex": [
       "\\textbf{png:} 2"
      ],
      "text/markdown": [
       "**png:** 2"
      ],
      "text/plain": [
       "png \n",
       "  2 "
      ]
     },
     "metadata": {},
     "output_type": "display_data"
    }
   ],
   "source": [
    "roundOrientation = function(angles) {\n",
    "  refs = seq(0, by = 45, length  = 9)\n",
    "  q = sapply(angles, function(o) which.min(abs(o - refs)))\n",
    "  c(refs[1:8], 0)[q]\n",
    "}\n",
    "\n",
    "offline$angle = roundOrientation(offline$orientation)\n",
    "\n",
    "pdf(file = \"Geo_BoxplotAngle.pdf\", width = 10)\n",
    "oldPar = par(mar = c(4, 4, 1, 1))\n",
    "\n",
    "par(oldPar)\n",
    "dev.off()\n",
    "\n",
    "c(length(unique(offline$mac)), length(unique(offline$channel)))\n",
    "\n",
    "table(offline$mac)\n",
    "\n",
    "subMacs = names(sort(table(offline$mac), decreasing = TRUE))[1:7]\n",
    "offline = offline[ offline$mac %in% subMacs, ]\n",
    "\n",
    "macChannel = with(offline, table(mac, channel))\n",
    "apply(macChannel, 1, function(x) sum(x > 0))\n",
    "\n",
    "offline = offline[ , \"channel\" != names(offline)]\n",
    "\n",
    "locDF = with(offline, \n",
    "             by(offline, list(posX, posY), function(x) x))\n",
    "length(locDF)\n",
    "\n",
    "\n",
    "sum(sapply(locDF, is.null))\n",
    "\n",
    "locDF = locDF[ !sapply(locDF, is.null) ]\n",
    "\n",
    "length(locDF)\n",
    "\n",
    "locCounts = sapply(locDF, nrow)\n",
    "\n",
    "locCounts = sapply(locDF, \n",
    "                   function(df) \n",
    "                     c(df[1, c(\"posX\", \"posY\")], count = nrow(df)))\n",
    "\n",
    "class(locCounts)\n",
    "\n",
    "dim(locCounts)\n",
    "\n",
    "locCounts[ , 1:8]\n",
    "\n",
    "pdf(file = \"Geo_XYByCount.pdf\", width = 10)\n",
    "oldPar = par(mar = c(3.1, 3.1, 1, 1))\n",
    "\n",
    "locCounts = t(locCounts)\n",
    "plot(locCounts, type = \"n\", xlab = \"\", ylab = \"\")\n",
    "text(locCounts, labels = locCounts[,3], cex = .8, srt = 45)\n",
    "\n",
    "par(oldPar)\n",
    "dev.off()"
   ]
  },
  {
   "cell_type": "code",
   "execution_count": null,
   "metadata": {},
   "outputs": [],
   "source": []
  },
  {
   "cell_type": "code",
   "execution_count": null,
   "metadata": {},
   "outputs": [],
   "source": []
  },
  {
   "cell_type": "code",
   "execution_count": 6,
   "metadata": {},
   "outputs": [],
   "source": [
    "readData = \n",
    "  function(filename = 'Data/offline.final.trace.txt', \n",
    "           subMacs = c(\"00:0f:a3:39:e1:c0\", \"00:0f:a3:39:dd:cd\", \"00:14:bf:b1:97:8a\",\n",
    "                       \"00:14:bf:3b:c7:c6\", \"00:14:bf:b1:97:90\", \"00:14:bf:b1:97:8d\",\n",
    "                       \"00:14:bf:b1:97:81\"))\n",
    "  {\n",
    "    txt = readLines(filename)\n",
    "    lines = txt[ substr(txt, 1, 1) != \"#\" ]\n",
    "    tmp = lapply(lines, processLine)\n",
    "    offline = as.data.frame(do.call(\"rbind\", tmp), \n",
    "                            stringsAsFactors= FALSE) \n",
    "    \n",
    "    names(offline) = c(\"time\", \"scanMac\", \n",
    "                       \"posX\", \"posY\", \"posZ\", \"orientation\", \n",
    "                       \"mac\", \"signal\", \"channel\", \"type\")\n",
    "    \n",
    "     # keep only signals from access points\n",
    "    offline = offline[ offline$type == \"3\", ]\n",
    "    \n",
    "    # drop scanMac, posZ, channel, and type - no info in them\n",
    "    dropVars = c(\"scanMac\", \"posZ\", \"channel\", \"type\")\n",
    "    offline = offline[ , !( names(offline) %in% dropVars ) ]\n",
    "    \n",
    "    # drop more unwanted access points\n",
    "    offline = offline[ offline$mac %in% subMacs, ]\n",
    "    \n",
    "    # convert numeric values\n",
    "    numVars = c(\"time\", \"posX\", \"posY\", \"orientation\", \"signal\")\n",
    "    offline[ numVars ] = lapply(offline[ numVars ], as.numeric)\n",
    "\n",
    "    # convert time to POSIX\n",
    "    offline$rawTime = offline$time\n",
    "    offline$time = offline$time/1000\n",
    "    class(offline$time) = c(\"POSIXt\", \"POSIXct\")\n",
    "    \n",
    "    # round orientations to nearest 45\n",
    "    offline$angle = roundOrientation(offline$orientation)\n",
    "      \n",
    "    return(offline)\n",
    "  }\n"
   ]
  },
  {
   "cell_type": "code",
   "execution_count": 7,
   "metadata": {},
   "outputs": [
    {
     "data": {
      "text/html": [
       "TRUE"
      ],
      "text/latex": [
       "TRUE"
      ],
      "text/markdown": [
       "TRUE"
      ],
      "text/plain": [
       "[1] TRUE"
      ]
     },
     "metadata": {},
     "output_type": "display_data"
    },
    {
     "data": {},
     "metadata": {},
     "output_type": "display_data"
    },
    {
     "data": {
      "text/html": [
       "<strong>png:</strong> 2"
      ],
      "text/latex": [
       "\\textbf{png:} 2"
      ],
      "text/markdown": [
       "**png:** 2"
      ],
      "text/plain": [
       "png \n",
       "  2 "
      ]
     },
     "metadata": {},
     "output_type": "display_data"
    },
    {
     "data": {
      "text/plain": [
       "   Min. 1st Qu.  Median    Mean 3rd Qu.    Max. \n",
       "    -98     -67     -59     -60     -53     -25 "
      ]
     },
     "metadata": {},
     "output_type": "display_data"
    }
   ],
   "source": [
    "offlineRedo = readData()\n",
    "\n",
    "identical(offline, offlineRedo)\n",
    "\n",
    "pdf(file = \"Geo_BoxplotSignalByMacAngle.pdf\", width = 7)\n",
    "oldPar = par(mar = c(3.1, 3, 1, 1))\n",
    "\n",
    "library(lattice)\n",
    "bwplot(signal ~ factor(angle) | mac, data = offline, \n",
    "       subset = posX == 2 & posY == 12 \n",
    "                & mac != \"00:0f:a3:39:dd:cd\", \n",
    "       layout = c(2,3))\n",
    "\n",
    "par(oldPar)\n",
    "dev.off()\n",
    "\n",
    "summary(offline$signal)"
   ]
  },
  {
   "cell_type": "code",
   "execution_count": 8,
   "metadata": {},
   "outputs": [
    {
     "data": {},
     "metadata": {},
     "output_type": "display_data"
    },
    {
     "data": {
      "text/html": [
       "<strong>png:</strong> 2"
      ],
      "text/latex": [
       "\\textbf{png:} 2"
      ],
      "text/markdown": [
       "**png:** 2"
      ],
      "text/plain": [
       "png \n",
       "  2 "
      ]
     },
     "metadata": {},
     "output_type": "display_data"
    },
    {
     "data": {},
     "metadata": {},
     "output_type": "display_data"
    },
    {
     "data": {
      "text/html": [
       "<strong>png:</strong> 2"
      ],
      "text/latex": [
       "\\textbf{png:} 2"
      ],
      "text/markdown": [
       "**png:** 2"
      ],
      "text/plain": [
       "png \n",
       "  2 "
      ]
     },
     "metadata": {},
     "output_type": "display_data"
    },
    {
     "data": {
      "text/html": [
       "<strong>png:</strong> 2"
      ],
      "text/latex": [
       "\\textbf{png:} 2"
      ],
      "text/markdown": [
       "**png:** 2"
      ],
      "text/plain": [
       "png \n",
       "  2 "
      ]
     },
     "metadata": {},
     "output_type": "display_data"
    }
   ],
   "source": [
    "pdf(file = \"Geo_DensitySignalByMacAngle.pdf\", width = 8, height = 12)\n",
    "oldPar = par(mar = c(3.1, 3, 1, 1))\n",
    "\n",
    "densityplot( ~ signal | mac + factor(angle), data = offline,\n",
    "             subset = posX == 24 & posY == 4 & \n",
    "                         mac != \"00:0f:a3:39:dd:cd\",\n",
    "             bw = 0.5, plot.points = FALSE)\n",
    "\n",
    "par(oldPar)\n",
    "dev.off()\n",
    "\n",
    "#offline = offline[ offline$mac != \"00:0f:a3:39:dd:cd\", ]\n",
    "\n",
    "offline$posXY = paste(offline$posX, offline$posY, sep = \"-\")\n",
    "\n",
    "byLocAngleAP = with(offline, \n",
    "                    by(offline, list(posXY, angle, mac), \n",
    "                       function(x) x))\n",
    "\n",
    "signalSummary = \n",
    "  lapply(byLocAngleAP,            \n",
    "         function(oneLoc) {\n",
    "           ans = oneLoc[1, ]\n",
    "           ans$medSignal = median(oneLoc$signal)\n",
    "           ans$avgSignal = mean(oneLoc$signal)\n",
    "           ans$num = length(oneLoc$signal)\n",
    "           ans$sdSignal = sd(oneLoc$signal)\n",
    "           ans$iqrSignal = IQR(oneLoc$signal)\n",
    "           ans\n",
    "           })\n",
    "\n",
    "offlineSummary = do.call(\"rbind\", signalSummary)     \n",
    "\n",
    "pdf(file = \"Geo_BoxplotSignalSDByAvg.pdf\", width = 10)\n",
    "oldPar = par(mar = c(3.1, 3, 1, 1))\n",
    "\n",
    "breaks = seq(-90, -30, by = 5)\n",
    "bwplot(sdSignal ~ cut(avgSignal, breaks = breaks),\n",
    "       data = offlineSummary, \n",
    "       subset = mac != \"00:0f:a3:39:dd:cd\",\n",
    "       xlab = \"Mean Signal\", ylab = \"SD Signal\")\n",
    "\n",
    "par(oldPar)\n",
    "dev.off()\n",
    "\n",
    "pdf(file = \"Geo_ScatterMean-Median.pdf\", width = 10)\n",
    "oldPar = par(mar = c(4.1, 4.1, 1, 1))\n",
    "\n",
    "with(offlineSummary,\n",
    "     smoothScatter((avgSignal - medSignal) ~ num,\n",
    "                   xlab = \"Number of Observations\", \n",
    "                   ylab = \"mean - median\"))\n",
    "abline(h = 0, col = \"#984ea3\", lwd = 2)\n",
    "\n",
    "lo.obj = \n",
    "  with(offlineSummary,\n",
    "       loess(diff ~ num, \n",
    "             data = data.frame(diff = (avgSignal - medSignal),\n",
    "                               num = num)))\n",
    "\n",
    "lo.obj.pr = predict(lo.obj, newdata = data.frame(num = (70:120)))\n",
    "lines(x = 70:120, y = lo.obj.pr, col = \"#4daf4a\", lwd = 2)\n",
    "\n",
    "par(oldPar)\n",
    "dev.off()\n",
    " \n",
    "oneAPAngle = subset(offlineSummary, \n",
    "                    mac == subMacs[5] & angle == 0)"
   ]
  },
  {
   "cell_type": "code",
   "execution_count": 13,
   "metadata": {},
   "outputs": [
    {
     "name": "stderr",
     "output_type": "stream",
     "text": [
      "also installing the dependencies 'dotCall64', 'spam'\n",
      "\n"
     ]
    },
    {
     "name": "stdout",
     "output_type": "stream",
     "text": [
      "package 'dotCall64' successfully unpacked and MD5 sums checked\n",
      "package 'spam' successfully unpacked and MD5 sums checked\n",
      "package 'fields' successfully unpacked and MD5 sums checked\n",
      "\n",
      "The downloaded binary packages are in\n",
      "\tC:\\Users\\ML\\AppData\\Local\\Temp\\RtmpkLTewj\\downloaded_packages\n"
     ]
    }
   ],
   "source": [
    "install.packages('fields', repos='http://cran.us.r-project.org')"
   ]
  },
  {
   "cell_type": "code",
   "execution_count": 14,
   "metadata": {
    "scrolled": false
   },
   "outputs": [
    {
     "name": "stderr",
     "output_type": "stream",
     "text": [
      "Warning message:\n",
      "\"package 'fields' was built under R version 3.4.4\"Loading required package: spam\n",
      "Warning message:\n",
      "\"package 'spam' was built under R version 3.4.4\"Loading required package: dotCall64\n",
      "Warning message:\n",
      "\"package 'dotCall64' was built under R version 3.4.4\"Loading required package: grid\n",
      "Spam version 2.1-4 (2018-04-12) is loaded.\n",
      "Type 'help( Spam)' or 'demo( spam)' for a short introduction \n",
      "and overview of this package.\n",
      "Help for individual functions is also obtained by adding the\n",
      "suffix '.spam' to the function name, e.g. 'help( chol.spam)'.\n",
      "\n",
      "Attaching package: 'spam'\n",
      "\n",
      "The following objects are masked from 'package:base':\n",
      "\n",
      "    backsolve, forwardsolve\n",
      "\n",
      "Loading required package: maps\n",
      "See www.image.ucar.edu/~nychka/Fields for\n",
      " a vignette and other supplements. \n"
     ]
    },
    {
     "data": {
      "image/png": "[encoded data removed]",
      "text/plain": [
       "plot without title"
      ]
     },
     "metadata": {},
     "output_type": "display_data"
    },
    {
     "name": "stderr",
     "output_type": "stream",
     "text": [
      "ERROR while rich displaying an object: Error in vapply(seq_along(mapped), function(i) {: values must be length 1,\n",
      " but FUN(X[[1]]) result is length 0\n",
      "\n",
      "Traceback:\n",
      "1. FUN(X[[i]], ...)\n",
      "2. tryCatch(withCallingHandlers({\n",
      " .     rpr <- mime2repr[[mime]](obj)\n",
      " .     if (is.null(rpr)) \n",
      " .         return(NULL)\n",
      " .     prepare_content(is.raw(rpr), rpr)\n",
      " . }, error = error_handler), error = outer_handler)\n",
      "3. tryCatchList(expr, classes, parentenv, handlers)\n",
      "4. tryCatchOne(expr, names, parentenv, handlers[[1L]])\n",
      "5. doTryCatch(return(expr), name, parentenv, handler)\n",
      "6. withCallingHandlers({\n",
      " .     rpr <- mime2repr[[mime]](obj)\n",
      " .     if (is.null(rpr)) \n",
      " .         return(NULL)\n",
      " .     prepare_content(is.raw(rpr), rpr)\n",
      " . }, error = error_handler)\n",
      "7. mime2repr[[mime]](obj)\n",
      "8. repr_html.list(obj)\n",
      "9. repr_list_generic(obj, \"html\", \"\\t<li>%s</li>\\n\", \"\\t<dt>$%s</dt>\\n\\t\\t<dd>%s</dd>\\n\", \n",
      " .     \"<strong>$%s</strong> = %s\", \"<ol>\\n%s</ol>\\n\", \"<dl>\\n%s</dl>\\n\", \n",
      " .     numeric_item = \"\\t<dt>[[%s]]</dt>\\n\\t\\t<dd>%s</dd>\\n\", escape_fun = html_escape)\n",
      "10. vapply(seq_along(mapped), function(i) {\n",
      "  .     nm <- nms[[i]]\n",
      "  .     if (is.na(nm) || nchar(nm) == 0) {\n",
      "  .         sprintf(numeric_item, i, mapped[[i]])\n",
      "  .     }\n",
      "  .     else {\n",
      "  .         sprintf(named_item, nms[[i]], mapped[[i]])\n",
      "  .     }\n",
      "  . }, character(1))\n",
      "ERROR while rich displaying an object: Error in vapply(seq_along(mapped), function(i) {: values must be length 1,\n",
      " but FUN(X[[1]]) result is length 0\n",
      "\n",
      "Traceback:\n",
      "1. FUN(X[[i]], ...)\n",
      "2. tryCatch(withCallingHandlers({\n",
      " .     rpr <- mime2repr[[mime]](obj)\n",
      " .     if (is.null(rpr)) \n",
      " .         return(NULL)\n",
      " .     prepare_content(is.raw(rpr), rpr)\n",
      " . }, error = error_handler), error = outer_handler)\n",
      "3. tryCatchList(expr, classes, parentenv, handlers)\n",
      "4. tryCatchOne(expr, names, parentenv, handlers[[1L]])\n",
      "5. doTryCatch(return(expr), name, parentenv, handler)\n",
      "6. withCallingHandlers({\n",
      " .     rpr <- mime2repr[[mime]](obj)\n",
      " .     if (is.null(rpr)) \n",
      " .         return(NULL)\n",
      " .     prepare_content(is.raw(rpr), rpr)\n",
      " . }, error = error_handler)\n",
      "7. mime2repr[[mime]](obj)\n",
      "8. repr_markdown.list(obj)\n",
      "9. repr_list_generic(obj, \"markdown\", \"%s. %s\\n\", \"$%s\\n:   %s\\n\", \n",
      " .     \"**$%s** = %s\", \"%s\\n\\n\", numeric_item = \"[[%s]]\\n:   %s\\n\", \n",
      " .     item_uses_numbers = TRUE, escape_fun = html_escape)\n",
      "10. vapply(seq_along(mapped), function(i) {\n",
      "  .     nm <- nms[[i]]\n",
      "  .     if (is.na(nm) || nchar(nm) == 0) {\n",
      "  .         sprintf(numeric_item, i, mapped[[i]])\n",
      "  .     }\n",
      "  .     else {\n",
      "  .         sprintf(named_item, nms[[i]], mapped[[i]])\n",
      "  .     }\n",
      "  . }, character(1))\n",
      "ERROR while rich displaying an object: Error in vapply(seq_along(mapped), function(i) {: values must be length 1,\n",
      " but FUN(X[[1]]) result is length 0\n",
      "\n",
      "Traceback:\n",
      "1. FUN(X[[i]], ...)\n",
      "2. tryCatch(withCallingHandlers({\n",
      " .     rpr <- mime2repr[[mime]](obj)\n",
      " .     if (is.null(rpr)) \n",
      " .         return(NULL)\n",
      " .     prepare_content(is.raw(rpr), rpr)\n",
      " . }, error = error_handler), error = outer_handler)\n",
      "3. tryCatchList(expr, classes, parentenv, handlers)\n",
      "4. tryCatchOne(expr, names, parentenv, handlers[[1L]])\n",
      "5. doTryCatch(return(expr), name, parentenv, handler)\n",
      "6. withCallingHandlers({\n",
      " .     rpr <- mime2repr[[mime]](obj)\n",
      " .     if (is.null(rpr)) \n",
      " .         return(NULL)\n",
      " .     prepare_content(is.raw(rpr), rpr)\n",
      " . }, error = error_handler)\n",
      "7. mime2repr[[mime]](obj)\n",
      "8. repr_latex.list(obj)\n",
      "9. repr_list_generic(obj, \"latex\", \"\\\\item %s\\n\", \"\\\\item[\\\\$%s] %s\\n\", \n",
      " .     \"\\\\textbf{\\\\$%s} = %s\", enum_wrap = \"\\\\begin{enumerate}\\n%s\\\\end{enumerate}\\n\", \n",
      " .     named_wrap = \"\\\\begin{description}\\n%s\\\\end{description}\\n\", \n",
      " .     numeric_item = \"\\\\item[{[[%s]]}] %s\\n\", escape_fun = latex_escape)\n",
      "10. vapply(seq_along(mapped), function(i) {\n",
      "  .     nm <- nms[[i]]\n",
      "  .     if (is.na(nm) || nchar(nm) == 0) {\n",
      "  .         sprintf(numeric_item, i, mapped[[i]])\n",
      "  .     }\n",
      "  .     else {\n",
      "  .         sprintf(named_item, nms[[i]], mapped[[i]])\n",
      "  .     }\n",
      "  . }, character(1))\n"
     ]
    },
    {
     "data": {
      "text/plain": [
       "$`00:14:bf:b1:97:90`\n",
       "NULL\n",
       "\n",
       "$`00:14:bf:b1:97:90`\n",
       "NULL\n",
       "\n",
       "$`00:0f:a3:39:e1:c0`\n",
       "NULL\n",
       "\n",
       "$`00:0f:a3:39:e1:c0`\n",
       "NULL\n"
      ]
     },
     "metadata": {},
     "output_type": "display_data"
    },
    {
     "data": {
      "text/html": [
       "<table>\n",
       "<thead><tr><th></th><th scope=col>x</th><th scope=col>y</th></tr></thead>\n",
       "<tbody>\n",
       "\t<tr><th scope=row>00:0f:a3:39:e1:c0</th><td> 7.5</td><td> 6.3</td></tr>\n",
       "\t<tr><th scope=row>00:14:bf:b1:97:8a</th><td> 2.5</td><td>-0.8</td></tr>\n",
       "\t<tr><th scope=row>00:14:bf:3b:c7:c6</th><td>12.8</td><td>-2.8</td></tr>\n",
       "\t<tr><th scope=row>00:14:bf:b1:97:90</th><td> 1.0</td><td>14.0</td></tr>\n",
       "\t<tr><th scope=row>00:14:bf:b1:97:8d</th><td>33.5</td><td> 9.3</td></tr>\n",
       "\t<tr><th scope=row>00:14:bf:b1:97:81</th><td>33.5</td><td> 2.8</td></tr>\n",
       "</tbody>\n",
       "</table>\n"
      ],
      "text/latex": [
       "\\begin{tabular}{r|ll}\n",
       "  & x & y\\\\\n",
       "\\hline\n",
       "\t00:0f:a3:39:e1:c0 &  7.5 &  6.3\\\\\n",
       "\t00:14:bf:b1:97:8a &  2.5 & -0.8\\\\\n",
       "\t00:14:bf:3b:c7:c6 & 12.8 & -2.8\\\\\n",
       "\t00:14:bf:b1:97:90 &  1.0 & 14.0\\\\\n",
       "\t00:14:bf:b1:97:8d & 33.5 &  9.3\\\\\n",
       "\t00:14:bf:b1:97:81 & 33.5 &  2.8\\\\\n",
       "\\end{tabular}\n"
      ],
      "text/markdown": [
       "\n",
       "| <!--/--> | x | y | \n",
       "|---|---|---|---|---|---|\n",
       "| 00:0f:a3:39:e1:c0 |  7.5 |  6.3 | \n",
       "| 00:14:bf:b1:97:8a |  2.5 | -0.8 | \n",
       "| 00:14:bf:3b:c7:c6 | 12.8 | -2.8 | \n",
       "| 00:14:bf:b1:97:90 |  1.0 | 14.0 | \n",
       "| 00:14:bf:b1:97:8d | 33.5 |  9.3 | \n",
       "| 00:14:bf:b1:97:81 | 33.5 |  2.8 | \n",
       "\n",
       "\n"
      ],
      "text/plain": [
       "                  x    y   \n",
       "00:0f:a3:39:e1:c0  7.5  6.3\n",
       "00:14:bf:b1:97:8a  2.5 -0.8\n",
       "00:14:bf:3b:c7:c6 12.8 -2.8\n",
       "00:14:bf:b1:97:90  1.0 14.0\n",
       "00:14:bf:b1:97:8d 33.5  9.3\n",
       "00:14:bf:b1:97:81 33.5  2.8"
      ]
     },
     "metadata": {},
     "output_type": "display_data"
    },
    {
     "data": {},
     "metadata": {},
     "output_type": "display_data"
    },
    {
     "data": {
      "image/png": "[encoded data removed]",
      "text/plain": [
       "plot without title"
      ]
     },
     "metadata": {},
     "output_type": "display_data"
    },
    {
     "data": {},
     "metadata": {},
     "output_type": "display_data"
    },
    {
     "data": {
      "text/html": [
       "<strong>png:</strong> 2"
      ],
      "text/latex": [
       "\\textbf{png:} 2"
      ],
      "text/markdown": [
       "**png:** 2"
      ],
      "text/plain": [
       "png \n",
       "  2 "
      ]
     },
     "metadata": {},
     "output_type": "display_data"
    },
    {
     "data": {
      "image/png": "[encoded data removed]",
      "text/plain": [
       "plot without title"
      ]
     },
     "metadata": {},
     "output_type": "display_data"
    }
   ],
   "source": [
    "library(fields)\n",
    "smoothSS = Tps(oneAPAngle[, c(\"posX\",\"posY\")], \n",
    "               oneAPAngle$avgSignal)\n",
    "\n",
    "vizSmooth = predictSurface(smoothSS)\n",
    "\n",
    "plot.surface(vizSmooth, type = \"C\")\n",
    "\n",
    "points(oneAPAngle$posX, oneAPAngle$posY, pch=19, cex = 0.5)\n",
    "\n",
    "surfaceSS = function(data, mac, angle = 45) {\n",
    "  require(fields)\n",
    "  oneAPAngle = data[ data$mac == mac & data$angle == angle, ]\n",
    "  smoothSS = Tps(oneAPAngle[, c(\"posX\",\"posY\")], \n",
    "                 oneAPAngle$avgSignal)\n",
    "  vizSmooth = predictSurface(smoothSS)\n",
    "  plot.surface(vizSmooth, type = \"C\", \n",
    "               xlab = \"\", ylab = \"\", xaxt = \"n\", yaxt = \"n\")\n",
    "  points(oneAPAngle$posX, oneAPAngle$posY, pch=19, cex = 0.5) \n",
    "}\n",
    "\n",
    "parCur = par(mfrow = c(2,2), mar = rep(1, 4))\n",
    "\n",
    "mapply(surfaceSS, mac = subMacs[ rep(c(5, 1), each = 2) ], \n",
    "       angle = rep(c(0, 135), 2),\n",
    "       data = list(data = offlineSummary))\n",
    " \n",
    "par(parCur)\n",
    "\n",
    "offlineSummary = subset(offlineSummary, mac != subMacs[2])\n",
    "\n",
    "AP = matrix( c( 7.5, 6.3, 2.5, -.8, 12.8, -2.8,  \n",
    "                1, 14, 33.5, 9.3,  33.5, 2.8),\n",
    "            ncol = 2, byrow = TRUE,\n",
    "            dimnames = list(subMacs[ -2 ], c(\"x\", \"y\") ))\n",
    "\n",
    "AP\n",
    "\n",
    "diffs = offlineSummary[ , c(\"posX\", \"posY\")] - \n",
    "          AP[ offlineSummary$mac, ]\n",
    "\n",
    "offlineSummary$dist = sqrt(diffs[ , 1]^2 + diffs[ , 2]^2)\n",
    "\n",
    "xyplot(signal ~ dist | factor(mac) + factor(angle), \n",
    "       data = offlineSummary, pch = 19, cex = 0.3,\n",
    "       xlab =\"distance\")\n",
    "\n",
    "pdf(file=\"Geo_ScatterSignalDist.pdf\", width = 7, height = 10)\n",
    "oldPar = par(mar = c(3.1, 3.1, 1, 1))\n",
    "library(lattice)\n",
    "xyplot(signal ~ dist | factor(mac) + factor(angle), \n",
    "       data = offlineSummary, pch = 19, cex = 0.3,\n",
    "       xlab =\"distance\")\n",
    "par(oldPar)\n",
    "dev.off()"
   ]
  },
  {
   "cell_type": "code",
   "execution_count": null,
   "metadata": {},
   "outputs": [],
   "source": []
  }
 ],
 "metadata": {
  "kernelspec": {
   "display_name": "R",
   "language": "R",
   "name": "ir"
  },
  "language_info": {
   "codemirror_mode": "r",
   "file_extension": ".r",
   "mimetype": "text/x-r-source",
   "name": "R",
   "pygments_lexer": "r",
   "version": "3.4.3"
  }
 },
 "nbformat": 4,
 "nbformat_minor": 2
}
